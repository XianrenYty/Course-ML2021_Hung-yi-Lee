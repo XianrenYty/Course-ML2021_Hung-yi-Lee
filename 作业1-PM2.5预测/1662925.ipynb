{
 "cells": [
  {
   "cell_type": "markdown",
   "metadata": {
    "collapsed": false
   },
   "source": [
    "# 李宏毅机器学习2021系列"
   ]
  },
  {
   "cell_type": "markdown",
   "metadata": {
    "collapsed": false
   },
   "source": [
    "# 作业1-PM2.5预测\n",
    "\n",
    "## 项目描述\n",
    "\n",
    "* 本次作业的资料是从行政院环境环保署空气品质监测网所下载的观测资料。\n",
    "* 希望大家能在本作业实现 linear regression 预测出 PM2.5 的数值。\n",
    "\n",
    "## 数据集介绍\n",
    "\n",
    "* 本次作业使用丰原站的观测记录，分成 train set 跟 test set，train set 是丰原站每个月的前 20 天所有资料。test set 则是从丰原站剩下的资料中取样出来。\n",
    "* train.csv: 每个月前 20 天的完整资料。\n",
    "* test.csv : 从剩下的资料当中取样出连续的 10 小时为一笔，前九小时的所有观测数据当作 feature，第十小时的 PM2.5 当作 answer。一共取出 240 笔不重複的 test data，请根据 feature 预测这 240 笔的 PM2.5。\n",
    "* Data 含有 18 项观测数据 AMB_TEMP, CH4, CO, NHMC, NO, NO2, NOx, O3, PM10, PM2.5, RAINFALL, RH, SO2, THC, WD_HR, WIND_DIREC, WIND_SPEED, WS_HR。  \n",
    "\n",
    "\n",
    "## 项目要求\n",
    "- 请手动实现 linear regression，方法限使用 gradient descent。\n",
    "- 禁止使用 numpy.linalg.lstsq\n",
    "\n",
    "\n",
    "## 数据准备\n",
    "无\n",
    "\n",
    "## 环境配置/安装\n"
   ]
  },
  {
   "cell_type": "code",
   "execution_count": null,
   "metadata": {
    "collapsed": false
   },
   "outputs": [],
   "source": [
    "# !pip install --upgrade pandas"
   ]
  },
  {
   "cell_type": "code",
   "execution_count": null,
   "metadata": {
    "collapsed": false
   },
   "outputs": [],
   "source": [
    "import pandas as pd\r\n",
    "import numpy as np\r\n",
    "import math\r\n",
    "import matplotlib.pyplot as plt\r\n",
    "import paddle\r\n",
    "import os"
   ]
  },
  {
   "cell_type": "code",
   "execution_count": null,
   "metadata": {
    "collapsed": false
   },
   "outputs": [
    {
     "name": "stdout",
     "output_type": "stream",
     "text": [
      "mkdir: cannot create directory ‘work/hw1_data’: File exists\r\n"
     ]
    }
   ],
   "source": [
    "# 复制数据集到指定目录\r\n",
    "!mkdir work/hw1_data\r\n",
    "!cp data/data74756/train.csv -d work/hw1_data && cp data/data74756/test.csv -d work/hw1_data"
   ]
  },
  {
   "cell_type": "markdown",
   "metadata": {
    "collapsed": false
   },
   "source": [
    "## Load data"
   ]
  },
  {
   "cell_type": "code",
   "execution_count": null,
   "metadata": {
    "collapsed": false
   },
   "outputs": [
    {
     "name": "stdout",
     "output_type": "stream",
     "text": [
      "(4320, 27)\n"
     ]
    }
   ],
   "source": [
    "df = pd.read_csv('work/hw1_data/train.csv', encoding='big5')\r\n",
    "print(df.shape)"
   ]
  },
  {
   "cell_type": "code",
   "execution_count": null,
   "metadata": {
    "collapsed": false
   },
   "outputs": [
    {
     "data": {
      "text/html": [
       "<div>\n",
       "<style scoped>\n",
       "    .dataframe tbody tr th:only-of-type {\n",
       "        vertical-align: middle;\n",
       "    }\n",
       "\n",
       "    .dataframe tbody tr th {\n",
       "        vertical-align: top;\n",
       "    }\n",
       "\n",
       "    .dataframe thead th {\n",
       "        text-align: right;\n",
       "    }\n",
       "</style>\n",
       "<table border=\"1\" class=\"dataframe\">\n",
       "  <thead>\n",
       "    <tr style=\"text-align: right;\">\n",
       "      <th></th>\n",
       "      <th>日期</th>\n",
       "      <th>測站</th>\n",
       "      <th>測項</th>\n",
       "      <th>0</th>\n",
       "      <th>1</th>\n",
       "      <th>2</th>\n",
       "      <th>3</th>\n",
       "      <th>4</th>\n",
       "      <th>5</th>\n",
       "      <th>6</th>\n",
       "      <th>...</th>\n",
       "      <th>14</th>\n",
       "      <th>15</th>\n",
       "      <th>16</th>\n",
       "      <th>17</th>\n",
       "      <th>18</th>\n",
       "      <th>19</th>\n",
       "      <th>20</th>\n",
       "      <th>21</th>\n",
       "      <th>22</th>\n",
       "      <th>23</th>\n",
       "    </tr>\n",
       "  </thead>\n",
       "  <tbody>\n",
       "    <tr>\n",
       "      <th>0</th>\n",
       "      <td>2014/1/1</td>\n",
       "      <td>豐原</td>\n",
       "      <td>AMB_TEMP</td>\n",
       "      <td>14</td>\n",
       "      <td>14</td>\n",
       "      <td>14</td>\n",
       "      <td>13</td>\n",
       "      <td>12</td>\n",
       "      <td>12</td>\n",
       "      <td>12</td>\n",
       "      <td>...</td>\n",
       "      <td>22</td>\n",
       "      <td>22</td>\n",
       "      <td>21</td>\n",
       "      <td>19</td>\n",
       "      <td>17</td>\n",
       "      <td>16</td>\n",
       "      <td>15</td>\n",
       "      <td>15</td>\n",
       "      <td>15</td>\n",
       "      <td>15</td>\n",
       "    </tr>\n",
       "    <tr>\n",
       "      <th>1</th>\n",
       "      <td>2014/1/1</td>\n",
       "      <td>豐原</td>\n",
       "      <td>CH4</td>\n",
       "      <td>1.8</td>\n",
       "      <td>1.8</td>\n",
       "      <td>1.8</td>\n",
       "      <td>1.8</td>\n",
       "      <td>1.8</td>\n",
       "      <td>1.8</td>\n",
       "      <td>1.8</td>\n",
       "      <td>...</td>\n",
       "      <td>1.8</td>\n",
       "      <td>1.8</td>\n",
       "      <td>1.8</td>\n",
       "      <td>1.8</td>\n",
       "      <td>1.8</td>\n",
       "      <td>1.8</td>\n",
       "      <td>1.8</td>\n",
       "      <td>1.8</td>\n",
       "      <td>1.8</td>\n",
       "      <td>1.8</td>\n",
       "    </tr>\n",
       "    <tr>\n",
       "      <th>2</th>\n",
       "      <td>2014/1/1</td>\n",
       "      <td>豐原</td>\n",
       "      <td>CO</td>\n",
       "      <td>0.51</td>\n",
       "      <td>0.41</td>\n",
       "      <td>0.39</td>\n",
       "      <td>0.37</td>\n",
       "      <td>0.35</td>\n",
       "      <td>0.3</td>\n",
       "      <td>0.37</td>\n",
       "      <td>...</td>\n",
       "      <td>0.37</td>\n",
       "      <td>0.37</td>\n",
       "      <td>0.47</td>\n",
       "      <td>0.69</td>\n",
       "      <td>0.56</td>\n",
       "      <td>0.45</td>\n",
       "      <td>0.38</td>\n",
       "      <td>0.35</td>\n",
       "      <td>0.36</td>\n",
       "      <td>0.32</td>\n",
       "    </tr>\n",
       "    <tr>\n",
       "      <th>3</th>\n",
       "      <td>2014/1/1</td>\n",
       "      <td>豐原</td>\n",
       "      <td>NMHC</td>\n",
       "      <td>0.2</td>\n",
       "      <td>0.15</td>\n",
       "      <td>0.13</td>\n",
       "      <td>0.12</td>\n",
       "      <td>0.11</td>\n",
       "      <td>0.06</td>\n",
       "      <td>0.1</td>\n",
       "      <td>...</td>\n",
       "      <td>0.1</td>\n",
       "      <td>0.13</td>\n",
       "      <td>0.14</td>\n",
       "      <td>0.23</td>\n",
       "      <td>0.18</td>\n",
       "      <td>0.12</td>\n",
       "      <td>0.1</td>\n",
       "      <td>0.09</td>\n",
       "      <td>0.1</td>\n",
       "      <td>0.08</td>\n",
       "    </tr>\n",
       "    <tr>\n",
       "      <th>4</th>\n",
       "      <td>2014/1/1</td>\n",
       "      <td>豐原</td>\n",
       "      <td>NO</td>\n",
       "      <td>0.9</td>\n",
       "      <td>0.6</td>\n",
       "      <td>0.5</td>\n",
       "      <td>1.7</td>\n",
       "      <td>1.8</td>\n",
       "      <td>1.5</td>\n",
       "      <td>1.9</td>\n",
       "      <td>...</td>\n",
       "      <td>2.5</td>\n",
       "      <td>2.2</td>\n",
       "      <td>2.5</td>\n",
       "      <td>2.3</td>\n",
       "      <td>2.1</td>\n",
       "      <td>1.9</td>\n",
       "      <td>1.5</td>\n",
       "      <td>1.6</td>\n",
       "      <td>1.8</td>\n",
       "      <td>1.5</td>\n",
       "    </tr>\n",
       "  </tbody>\n",
       "</table>\n",
       "<p>5 rows × 27 columns</p>\n",
       "</div>"
      ],
      "text/plain": [
       "         日期  測站        測項     0     1     2     3     4     5     6  ...  \\\n",
       "0  2014/1/1  豐原  AMB_TEMP    14    14    14    13    12    12    12  ...   \n",
       "1  2014/1/1  豐原       CH4   1.8   1.8   1.8   1.8   1.8   1.8   1.8  ...   \n",
       "2  2014/1/1  豐原        CO  0.51  0.41  0.39  0.37  0.35   0.3  0.37  ...   \n",
       "3  2014/1/1  豐原      NMHC   0.2  0.15  0.13  0.12  0.11  0.06   0.1  ...   \n",
       "4  2014/1/1  豐原        NO   0.9   0.6   0.5   1.7   1.8   1.5   1.9  ...   \n",
       "\n",
       "     14    15    16    17    18    19    20    21    22    23  \n",
       "0    22    22    21    19    17    16    15    15    15    15  \n",
       "1   1.8   1.8   1.8   1.8   1.8   1.8   1.8   1.8   1.8   1.8  \n",
       "2  0.37  0.37  0.47  0.69  0.56  0.45  0.38  0.35  0.36  0.32  \n",
       "3   0.1  0.13  0.14  0.23  0.18  0.12   0.1  0.09   0.1  0.08  \n",
       "4   2.5   2.2   2.5   2.3   2.1   1.9   1.5   1.6   1.8   1.5  \n",
       "\n",
       "[5 rows x 27 columns]"
      ]
     },
     "execution_count": null,
     "metadata": {},
     "output_type": "execute_result"
    }
   ],
   "source": [
    "df.head() # 查看引入的csv文件前5行数据"
   ]
  },
  {
   "cell_type": "code",
   "execution_count": null,
   "metadata": {
    "collapsed": false
   },
   "outputs": [
    {
     "data": {
      "text/html": [
       "<div>\n",
       "<style scoped>\n",
       "    .dataframe tbody tr th:only-of-type {\n",
       "        vertical-align: middle;\n",
       "    }\n",
       "\n",
       "    .dataframe tbody tr th {\n",
       "        vertical-align: top;\n",
       "    }\n",
       "\n",
       "    .dataframe thead th {\n",
       "        text-align: right;\n",
       "    }\n",
       "</style>\n",
       "<table border=\"1\" class=\"dataframe\">\n",
       "  <thead>\n",
       "    <tr style=\"text-align: right;\">\n",
       "      <th></th>\n",
       "      <th>日期</th>\n",
       "      <th>測站</th>\n",
       "      <th>測項</th>\n",
       "      <th>0</th>\n",
       "      <th>1</th>\n",
       "      <th>2</th>\n",
       "      <th>3</th>\n",
       "      <th>4</th>\n",
       "      <th>5</th>\n",
       "      <th>6</th>\n",
       "      <th>...</th>\n",
       "      <th>14</th>\n",
       "      <th>15</th>\n",
       "      <th>16</th>\n",
       "      <th>17</th>\n",
       "      <th>18</th>\n",
       "      <th>19</th>\n",
       "      <th>20</th>\n",
       "      <th>21</th>\n",
       "      <th>22</th>\n",
       "      <th>23</th>\n",
       "    </tr>\n",
       "  </thead>\n",
       "  <tbody>\n",
       "    <tr>\n",
       "      <th>4315</th>\n",
       "      <td>2014/12/20</td>\n",
       "      <td>豐原</td>\n",
       "      <td>THC</td>\n",
       "      <td>1.8</td>\n",
       "      <td>1.8</td>\n",
       "      <td>1.8</td>\n",
       "      <td>1.8</td>\n",
       "      <td>1.8</td>\n",
       "      <td>1.7</td>\n",
       "      <td>1.7</td>\n",
       "      <td>...</td>\n",
       "      <td>1.8</td>\n",
       "      <td>1.8</td>\n",
       "      <td>2</td>\n",
       "      <td>2.1</td>\n",
       "      <td>2</td>\n",
       "      <td>1.9</td>\n",
       "      <td>1.9</td>\n",
       "      <td>1.9</td>\n",
       "      <td>2</td>\n",
       "      <td>2</td>\n",
       "    </tr>\n",
       "    <tr>\n",
       "      <th>4316</th>\n",
       "      <td>2014/12/20</td>\n",
       "      <td>豐原</td>\n",
       "      <td>WD_HR</td>\n",
       "      <td>46</td>\n",
       "      <td>13</td>\n",
       "      <td>61</td>\n",
       "      <td>44</td>\n",
       "      <td>55</td>\n",
       "      <td>68</td>\n",
       "      <td>66</td>\n",
       "      <td>...</td>\n",
       "      <td>59</td>\n",
       "      <td>308</td>\n",
       "      <td>327</td>\n",
       "      <td>21</td>\n",
       "      <td>100</td>\n",
       "      <td>109</td>\n",
       "      <td>108</td>\n",
       "      <td>114</td>\n",
       "      <td>108</td>\n",
       "      <td>109</td>\n",
       "    </tr>\n",
       "    <tr>\n",
       "      <th>4317</th>\n",
       "      <td>2014/12/20</td>\n",
       "      <td>豐原</td>\n",
       "      <td>WIND_DIREC</td>\n",
       "      <td>36</td>\n",
       "      <td>55</td>\n",
       "      <td>72</td>\n",
       "      <td>327</td>\n",
       "      <td>74</td>\n",
       "      <td>52</td>\n",
       "      <td>59</td>\n",
       "      <td>...</td>\n",
       "      <td>18</td>\n",
       "      <td>311</td>\n",
       "      <td>52</td>\n",
       "      <td>54</td>\n",
       "      <td>121</td>\n",
       "      <td>97</td>\n",
       "      <td>107</td>\n",
       "      <td>118</td>\n",
       "      <td>100</td>\n",
       "      <td>105</td>\n",
       "    </tr>\n",
       "    <tr>\n",
       "      <th>4318</th>\n",
       "      <td>2014/12/20</td>\n",
       "      <td>豐原</td>\n",
       "      <td>WIND_SPEED</td>\n",
       "      <td>1.9</td>\n",
       "      <td>2.4</td>\n",
       "      <td>1.9</td>\n",
       "      <td>2.8</td>\n",
       "      <td>2.3</td>\n",
       "      <td>1.9</td>\n",
       "      <td>2.1</td>\n",
       "      <td>...</td>\n",
       "      <td>2.3</td>\n",
       "      <td>2.6</td>\n",
       "      <td>1.3</td>\n",
       "      <td>1</td>\n",
       "      <td>1.5</td>\n",
       "      <td>1</td>\n",
       "      <td>1.7</td>\n",
       "      <td>1.5</td>\n",
       "      <td>2</td>\n",
       "      <td>2</td>\n",
       "    </tr>\n",
       "    <tr>\n",
       "      <th>4319</th>\n",
       "      <td>2014/12/20</td>\n",
       "      <td>豐原</td>\n",
       "      <td>WS_HR</td>\n",
       "      <td>0.7</td>\n",
       "      <td>0.8</td>\n",
       "      <td>1.8</td>\n",
       "      <td>1</td>\n",
       "      <td>1.9</td>\n",
       "      <td>1.7</td>\n",
       "      <td>2.1</td>\n",
       "      <td>...</td>\n",
       "      <td>1.3</td>\n",
       "      <td>1.7</td>\n",
       "      <td>0.7</td>\n",
       "      <td>0.4</td>\n",
       "      <td>1.1</td>\n",
       "      <td>1.4</td>\n",
       "      <td>1.3</td>\n",
       "      <td>1.6</td>\n",
       "      <td>1.8</td>\n",
       "      <td>2</td>\n",
       "    </tr>\n",
       "  </tbody>\n",
       "</table>\n",
       "<p>5 rows × 27 columns</p>\n",
       "</div>"
      ],
      "text/plain": [
       "              日期  測站          測項    0    1    2    3    4    5    6  ...   14  \\\n",
       "4315  2014/12/20  豐原         THC  1.8  1.8  1.8  1.8  1.8  1.7  1.7  ...  1.8   \n",
       "4316  2014/12/20  豐原       WD_HR   46   13   61   44   55   68   66  ...   59   \n",
       "4317  2014/12/20  豐原  WIND_DIREC   36   55   72  327   74   52   59  ...   18   \n",
       "4318  2014/12/20  豐原  WIND_SPEED  1.9  2.4  1.9  2.8  2.3  1.9  2.1  ...  2.3   \n",
       "4319  2014/12/20  豐原       WS_HR  0.7  0.8  1.8    1  1.9  1.7  2.1  ...  1.3   \n",
       "\n",
       "       15   16   17   18   19   20   21   22   23  \n",
       "4315  1.8    2  2.1    2  1.9  1.9  1.9    2    2  \n",
       "4316  308  327   21  100  109  108  114  108  109  \n",
       "4317  311   52   54  121   97  107  118  100  105  \n",
       "4318  2.6  1.3    1  1.5    1  1.7  1.5    2    2  \n",
       "4319  1.7  0.7  0.4  1.1  1.4  1.3  1.6  1.8    2  \n",
       "\n",
       "[5 rows x 27 columns]"
      ]
     },
     "execution_count": null,
     "metadata": {},
     "output_type": "execute_result"
    }
   ],
   "source": [
    "df.tail()"
   ]
  },
  {
   "cell_type": "code",
   "execution_count": null,
   "metadata": {
    "collapsed": false
   },
   "outputs": [
    {
     "data": {
      "text/plain": [
       "0       AMB_TEMP\n",
       "1            CH4\n",
       "2             CO\n",
       "3           NMHC\n",
       "4             NO\n",
       "5            NO2\n",
       "6            NOx\n",
       "7             O3\n",
       "8           PM10\n",
       "9          PM2.5\n",
       "10      RAINFALL\n",
       "11            RH\n",
       "12           SO2\n",
       "13           THC\n",
       "14         WD_HR\n",
       "15    WIND_DIREC\n",
       "16    WIND_SPEED\n",
       "17         WS_HR\n",
       "18      AMB_TEMP\n",
       "19           CH4\n",
       "Name: 測項, dtype: object"
      ]
     },
     "execution_count": null,
     "metadata": {},
     "output_type": "execute_result"
    }
   ],
   "source": [
    "df['測項'][:20] "
   ]
  },
  {
   "cell_type": "markdown",
   "metadata": {
    "collapsed": false
   },
   "source": [
    "可以看出一共有18个特征"
   ]
  },
  {
   "cell_type": "markdown",
   "metadata": {
    "collapsed": false
   },
   "source": [
    "## Preprocessing"
   ]
  },
  {
   "cell_type": "code",
   "execution_count": null,
   "metadata": {
    "collapsed": false
   },
   "outputs": [
    {
     "name": "stderr",
     "output_type": "stream",
     "text": [
      "/opt/conda/envs/python35-paddle120-env/lib/python3.7/site-packages/ipykernel_launcher.py:2: SettingWithCopyWarning: \n",
      "A value is trying to be set on a copy of a slice from a DataFrame.\n",
      "Try using .loc[row_indexer,col_indexer] = value instead\n",
      "\n",
      "See the caveats in the documentation: https://pandas.pydata.org/pandas-docs/stable/user_guide/indexing.html#returning-a-view-versus-a-copy\n",
      "  \n",
      "/opt/conda/envs/python35-paddle120-env/lib/python3.7/site-packages/pandas/core/frame.py:3093: SettingWithCopyWarning: \n",
      "A value is trying to be set on a copy of a slice from a DataFrame\n",
      "\n",
      "See the caveats in the documentation: https://pandas.pydata.org/pandas-docs/stable/user_guide/indexing.html#returning-a-view-versus-a-copy\n",
      "  self._where(-key, value, inplace=True)\n"
     ]
    },
    {
     "data": {
      "text/plain": [
       "(4320, 24)"
      ]
     },
     "execution_count": null,
     "metadata": {},
     "output_type": "execute_result"
    }
   ],
   "source": [
    "data = df.iloc[:, 3:]\r\n",
    "data[data == 'NR'] = 0\r\n",
    "raw_data = data.to_numpy().astype('float32')\r\n",
    "raw_data.shape   #(20*18*12, 24)"
   ]
  },
  {
   "cell_type": "markdown",
   "metadata": {
    "collapsed": false
   },
   "source": [
    "## Extract features (1)\n",
    "\n",
    "\n",
    "![](https://drive.google.com/uc?id=1LyaqD4ojX07oe5oDzPO99l9ts5NRyArH)\n",
    "\n",
    " `-> 12(month)*(18(feature)*480(h))`"
   ]
  },
  {
   "cell_type": "code",
   "execution_count": null,
   "metadata": {
    "collapsed": false
   },
   "outputs": [],
   "source": [
    "month_data = {}\r\n",
    "for month in range(12):\r\n",
    "    sample = np.empty([18, 480])\r\n",
    "    for day in range(20):\r\n",
    "        sample[:, day * 24 : (day + 1) * 24] = raw_data[18 * (20 * month + day) : 18 * (20 * month + day + 1), :]\r\n",
    "    month_data[month] = sample"
   ]
  },
  {
   "cell_type": "markdown",
   "metadata": {
    "collapsed": false
   },
   "source": [
    "## Extract features (2)\n",
    "\n",
    "![](https://drive.google.com/uc?id=1wKoPuaRHoX682LMiBgIoOP4PDyNKsJLK)\n",
    "\n",
    "每个月会有 480hrs，每 9 小时形成一個 data，每个月会有 471 個 data，故总资料数为 471 * 12 笔，而每笔 data 有 9 * 18 的 features (一小时 18 个 features * 9 小时)。\n",
    "\n",
    "对应的 target 则有 471 * 12 个(第 10 个小时的 PM2.5)"
   ]
  },
  {
   "cell_type": "code",
   "execution_count": null,
   "metadata": {
    "collapsed": false
   },
   "outputs": [
    {
     "name": "stdout",
     "output_type": "stream",
     "text": [
      "(5652, 162)\n",
      "(5652, 1)\n"
     ]
    }
   ],
   "source": [
    "x = np.empty([12 * 471, 18 * 9], dtype = float)\r\n",
    "y = np.empty([12 * 471, 1], dtype = float)\r\n",
    "for month in range(12):\r\n",
    "    for day in range(20):\r\n",
    "        for hour in range(24):\r\n",
    "            if day == 19 and hour > 14:\r\n",
    "                continue\r\n",
    "            x[month * 471 + day * 24 + hour, :] = month_data[month][:,day * 24 + hour : day * 24 + hour + 9].reshape(1, -1) # vector dim:18*9 (9 9 9 9 9 9 9 9 9 9 9 9 9 9 9 9 9 9)\r\n",
    "            y[month * 471 + day * 24 + hour, 0] = month_data[month][9, day * 24 + hour + 9] # value\r\n",
    "print(x.shape)    # (471*12, 18*9)\r\n",
    "print(y.shape)"
   ]
  },
  {
   "cell_type": "markdown",
   "metadata": {
    "collapsed": false
   },
   "source": [
    "## Normalize "
   ]
  },
  {
   "cell_type": "code",
   "execution_count": null,
   "metadata": {
    "collapsed": false
   },
   "outputs": [],
   "source": [
    "mean_x = np.mean(x, axis=0) # 18 * 9 \r\n",
    "std_x = np.std(x, axis=0) # 18 * 9 \r\n",
    "\r\n",
    "# 规范化\r\n",
    "def _normalize(X, train = True, specified_column = None, X_mean = None, X_std = None):\r\n",
    "    # This function normalizes specific columns of X.\r\n",
    "    # The mean and standard variance of training data will be reused when processing testing data.\r\n",
    "    #\r\n",
    "    # Arguments:\r\n",
    "    #     X: data to be processed\r\n",
    "    #     train: 'True' when processing training data, 'False' for testing data\r\n",
    "    #     specific_column: indexes of the columns that will be normalized. If 'None', all columns\r\n",
    "    #         will be normalized.\r\n",
    "    #     X_mean: mean value of training data, used when train = 'False'\r\n",
    "    #     X_std: standard deviation of training data, used when train = 'False'\r\n",
    "    # Outputs:\r\n",
    "    #     X: normalized data\r\n",
    "    #     X_mean: computed mean value of training data\r\n",
    "    #     X_std: computed standard deviation of training data\r\n",
    "\r\n",
    "    if specified_column == None:\r\n",
    "        specified_column = np.arange(X.shape[1])\r\n",
    "    if train:\r\n",
    "        X_mean = np.mean(X[:, specified_column] ,0).reshape(1, -1)\r\n",
    "        X_std  = np.std(X[:, specified_column], 0).reshape(1, -1)\r\n",
    "\r\n",
    "    X[:,specified_column] = (X[:, specified_column] - X_mean) / (X_std + 1e-8)\r\n",
    "     \r\n",
    "    return X, X_mean, X_std\r\n",
    "\r\n",
    "# Normalize training and testing data\r\n",
    "X_train, X_mean, X_std = _normalize(x, train = True)"
   ]
  },
  {
   "cell_type": "markdown",
   "metadata": {
    "collapsed": false
   },
   "source": [
    "## 划分数据集\n",
    "**Split Training Data Into \"train_set\" and \"validation_set\"**"
   ]
  },
  {
   "cell_type": "code",
   "execution_count": null,
   "metadata": {
    "collapsed": false
   },
   "outputs": [
    {
     "name": "stdout",
     "output_type": "stream",
     "text": [
      "训练集数据： (5086, 162)\n",
      "训练集标签： (5086, 1)\n",
      "验证集数据： (566, 162)\n",
      "验证集标签： (566, 1)\n"
     ]
    }
   ],
   "source": [
    "def _train_dev_split(X, Y, dev_ratio = 0.25):\r\n",
    "    # This function spilts data into training set and development set.\r\n",
    "    train_size = int(len(X) * (1 - dev_ratio))\r\n",
    "    return X[:train_size], Y[:train_size], X[train_size:], Y[train_size:]\r\n",
    "\r\n",
    "def _shuffle(X, Y):\r\n",
    "    # This function shuffles two equal-length list/array, X and Y, together.\r\n",
    "    randomize = np.arange(len(X))\r\n",
    "    np.random.shuffle(randomize)\r\n",
    "    return (X[randomize], Y[randomize])\r\n",
    "\r\n",
    "# Split data into training set and development set\r\n",
    "dev_ratio = 0.1\r\n",
    "# 9:1\r\n",
    "X_train, y = _shuffle(X_train, y)\r\n",
    "x_train, y_train, x_eval, y_eval = _train_dev_split(X_train, y, dev_ratio = dev_ratio)\r\n",
    "\r\n",
    "print(\"训练集数据：\", x_train.shape)\r\n",
    "print(\"训练集标签：\", y_train.shape)\r\n",
    "print(\"验证集数据：\", x_eval.shape)\r\n",
    "print(\"验证集标签：\", y_eval.shape)"
   ]
  },
  {
   "cell_type": "markdown",
   "metadata": {
    "collapsed": false
   },
   "source": [
    "## 线性回归模型建立\n",
    "\n",
    "![](https://drive.google.com/uc?id=1xIXvqZ4EGgmxrp7c9r0LOVbcvd4d9H4N)\n",
    "\n",
    "**Adagrad优化器**\n",
    "\n",
    "![alt text](https://drive.google.com/uc?id=1S42g06ON5oJlV2f9RukxawjbE4NpsaB6)\n",
    "![alt text](https://drive.google.com/uc?id=1BbXu-oPB9EZBHDQ12YCkYqtyAIil3bGj)"
   ]
  },
  {
   "cell_type": "markdown",
   "metadata": {
    "collapsed": false
   },
   "source": [
    "## 模型训练\n",
    "这里使用了`9:1`的训练集和验证集。\n",
    "\n",
    "使用`mini-batch`进行训练"
   ]
  },
  {
   "cell_type": "code",
   "execution_count": null,
   "metadata": {
    "collapsed": false
   },
   "outputs": [
    {
     "name": "stdout",
     "output_type": "stream",
     "text": [
      "mkdir: cannot create directory ‘work/checkpoint’: File exists\r\n"
     ]
    }
   ],
   "source": [
    "!mkdir work/checkpoint"
   ]
  },
  {
   "cell_type": "code",
   "execution_count": null,
   "metadata": {
    "collapsed": false
   },
   "outputs": [
    {
     "name": "stdout",
     "output_type": "stream",
     "text": [
      "Epoch 0/1000: train_loss = 159.4215807237326, eval_loss = 160.03964096127643\n",
      "Epoch 50/1000: train_loss = 10.710251205011959, eval_loss = 13.633207160142092\n",
      "Epoch 100/1000: train_loss = 8.940740484311618, eval_loss = 9.910586871289684\n",
      "Epoch 150/1000: train_loss = 7.205304188039285, eval_loss = 8.512948578348558\n",
      "Epoch 200/1000: train_loss = 6.576684152794168, eval_loss = 7.444865293517468\n",
      "Epoch 250/1000: train_loss = 7.977637180300461, eval_loss = 6.880208266650443\n",
      "Epoch 300/1000: train_loss = 6.266144801748074, eval_loss = 6.546815159494726\n",
      "Epoch 350/1000: train_loss = 6.430904115053692, eval_loss = 6.285806046257601\n",
      "Epoch 400/1000: train_loss = 5.916425468087467, eval_loss = 6.195045554834926\n",
      "Epoch 450/1000: train_loss = 7.15277059658265, eval_loss = 6.083480618594979\n",
      "Epoch 500/1000: train_loss = 5.82765440672093, eval_loss = 5.979611716769195\n",
      "Epoch 550/1000: train_loss = 5.91141506637541, eval_loss = 5.966073299482594\n",
      "Epoch 600/1000: train_loss = 5.435582187224593, eval_loss = 5.948395937855693\n",
      "Epoch 650/1000: train_loss = 5.019412332964305, eval_loss = 5.924666273559038\n",
      "Epoch 700/1000: train_loss = 6.035308988695684, eval_loss = 5.91948853709894\n",
      "Epoch 750/1000: train_loss = 5.602453209142315, eval_loss = 5.872485524056799\n",
      "Epoch 800/1000: train_loss = 5.416152523981437, eval_loss = 5.897742449011183\n",
      "Epoch 850/1000: train_loss = 5.489958216577146, eval_loss = 5.900870747279584\n",
      "Epoch 900/1000: train_loss = 6.006171906853285, eval_loss = 5.867429846520514\n",
      "Epoch 950/1000: train_loss = 5.896218141280272, eval_loss = 5.903525465262537\n",
      "Training loss: 5.908377606781291\n",
      "Eval loss: 5.8538184824615795\n"
     ]
    }
   ],
   "source": [
    "n = 471*12\r\n",
    "dim = 18 * 9 + 1  # 162w + 1b\r\n",
    "w = np.zeros([dim, 1]) \r\n",
    "\r\n",
    "\r\n",
    "# Some parameters for training    \r\n",
    "EPOCH = 1000\r\n",
    "batch_size = 512\r\n",
    "learning_rate = 100\r\n",
    "\r\n",
    "adagrad = np.zeros([dim, 1])\r\n",
    "eps = 1e-9\r\n",
    "\r\n",
    "# Keep the loss  at every iteration for plotting\r\n",
    "train_loss = []\r\n",
    "eval_loss = []\r\n",
    "\r\n",
    "x_train = np.concatenate((np.ones((x_train.shape[0], 1)), x_train), axis=1).astype('float32')   # axis=1增加一个数据\r\n",
    "x_eval = np.concatenate((np.ones((x_eval.shape[0], 1)), x_eval), axis=1).astype('float32')   # axis=1增加一个数据\r\n",
    "for epoch in range(EPOCH):\r\n",
    "    x_train, y_train = _shuffle(x_train, y_train)\r\n",
    "    x_eval, y_eval = _shuffle(x_eval, y_eval)\r\n",
    "\r\n",
    "    # Mini-batch training\r\n",
    "    step = 0\r\n",
    "    steps = int(np.floor(x_train.shape[0] / batch_size))\r\n",
    "    for idx in range(steps):  \r\n",
    "        X = x_train[idx*batch_size:(idx+1)*batch_size]\r\n",
    "        Y = y_train[idx*batch_size:(idx+1)*batch_size]\r\n",
    "\r\n",
    "        loss_train = np.sqrt(np.sum(np.power(np.dot(X, w) - Y, 2)) / batch_size) # rmse\r\n",
    "        # cal grad\r\n",
    "        gradient = 2 * np.dot(X.transpose(), np.dot(X, w) - Y) # dim*1\r\n",
    "        # optim update\r\n",
    "        adagrad += gradient ** 2\r\n",
    "        # loss_backward\r\n",
    "        w = w - learning_rate * gradient / np.sqrt(adagrad + eps) \r\n",
    "\r\n",
    "        step += 1\r\n",
    "        train_loss.append(loss_train)\r\n",
    "\r\n",
    "    loss_eval = np.sqrt(np.sum(np.power(np.dot(x_eval, w) - y_eval, 2)) / x_eval.shape[0]) # rmse\r\n",
    "    eval_loss.append(loss_eval)\r\n",
    "    if epoch % 50 == 0 or epoch == EPOCH:\r\n",
    "        print(f'Epoch {epoch}/{EPOCH}: train_loss = {loss_train}, eval_loss = {loss_eval}')\r\n",
    "        np.save(f'work/checkpoint/weight_epoch{epoch}.npy', w)\r\n",
    "\r\n",
    "print('Training loss: {}'.format(train_loss[-1]))\r\n",
    "print('Eval loss: {}'.format(eval_loss[-1]))\r\n",
    "np.save('work/weight.npy', w)\r\n",
    "# w                                                                                                    "
   ]
  },
  {
   "cell_type": "markdown",
   "metadata": {
    "collapsed": false
   },
   "source": [
    "## 加载预测文件"
   ]
  },
  {
   "cell_type": "code",
   "execution_count": null,
   "metadata": {
    "collapsed": false
   },
   "outputs": [
    {
     "name": "stderr",
     "output_type": "stream",
     "text": [
      "/opt/conda/envs/python35-paddle120-env/lib/python3.7/site-packages/ipykernel_launcher.py:3: SettingWithCopyWarning: \n",
      "A value is trying to be set on a copy of a slice from a DataFrame.\n",
      "Try using .loc[row_indexer,col_indexer] = value instead\n",
      "\n",
      "See the caveats in the documentation: https://pandas.pydata.org/pandas-docs/stable/user_guide/indexing.html#returning-a-view-versus-a-copy\n",
      "  This is separate from the ipykernel package so we can avoid doing imports until\n",
      "/opt/conda/envs/python35-paddle120-env/lib/python3.7/site-packages/pandas/core/frame.py:3093: SettingWithCopyWarning: \n",
      "A value is trying to be set on a copy of a slice from a DataFrame\n",
      "\n",
      "See the caveats in the documentation: https://pandas.pydata.org/pandas-docs/stable/user_guide/indexing.html#returning-a-view-versus-a-copy\n",
      "  self._where(-key, value, inplace=True)\n"
     ]
    },
    {
     "data": {
      "text/plain": [
       "(240, 163)"
      ]
     },
     "execution_count": null,
     "metadata": {},
     "output_type": "execute_result"
    }
   ],
   "source": [
    "testdata = pd.read_csv('work/hw1_data/test.csv', header = None, encoding = 'big5')\r\n",
    "test_data = testdata.iloc[:, 2:]\r\n",
    "test_data[test_data == 'NR'] = 0\r\n",
    "test_data = test_data.to_numpy()\r\n",
    "test_x = np.empty([240, 18*9], dtype = float)\r\n",
    "\r\n",
    "for i in range(240):\r\n",
    "    test_x[i, :] = test_data[18 * i: 18* (i + 1), :].reshape(1, -1)\r\n",
    "\r\n",
    "for i in range(len(test_x)):\r\n",
    "    for j in range(len(test_x[0])):\r\n",
    "        if std_x[j] != 0:\r\n",
    "            test_x[i][j] = (test_x[i][j] - mean_x[j]) / std_x[j]\r\n",
    "            \r\n",
    "test_x = np.concatenate((np.ones([240, 1]), test_x), axis = 1).astype(float)\r\n",
    "test_x.shape"
   ]
  },
  {
   "cell_type": "markdown",
   "metadata": {
    "collapsed": false
   },
   "source": [
    "## 模型加载_预测_保存"
   ]
  },
  {
   "cell_type": "code",
   "execution_count": null,
   "metadata": {
    "collapsed": false
   },
   "outputs": [
    {
     "data": {
      "text/plain": [
       "(240, 1)"
      ]
     },
     "execution_count": null,
     "metadata": {},
     "output_type": "execute_result"
    }
   ],
   "source": [
    "w = np.load('work/weight.npy')\r\n",
    "predict_y = np.dot(test_x, w)\r\n",
    "predict_y.shape"
   ]
  },
  {
   "cell_type": "code",
   "execution_count": null,
   "metadata": {
    "collapsed": false
   },
   "outputs": [],
   "source": [
    "import csv\r\n",
    "with open('work/submit1.csv', mode='w', newline='') as submit_file:\r\n",
    "    csv_writer = csv.writer(submit_file)\r\n",
    "    header = ['id', 'value']\r\n",
    "    # print(header)\r\n",
    "    csv_writer.writerow(header)\r\n",
    "    for i in range(240):\r\n",
    "        row = ['id_' + str(i), predict_y[i][0]]\r\n",
    "        csv_writer.writerow(row)\r\n",
    "        # print(row)"
   ]
  },
  {
   "cell_type": "markdown",
   "metadata": {
    "collapsed": false
   },
   "source": [
    "## 调用`paddle2.0`实现"
   ]
  },
  {
   "cell_type": "code",
   "execution_count": null,
   "metadata": {
    "collapsed": false
   },
   "outputs": [
    {
     "name": "stdout",
     "output_type": "stream",
     "text": [
      "---------------------------------------------------------------------------\n",
      " Layer (type)       Input Shape          Output Shape         Param #    \n",
      "===========================================================================\n",
      "   Linear-1        [[1, 1, 162]]          [1, 1, 1]             163      \n",
      "===========================================================================\n",
      "Total params: 163\n",
      "Trainable params: 163\n",
      "Non-trainable params: 0\n",
      "---------------------------------------------------------------------------\n",
      "Input size (MB): 0.00\n",
      "Forward/backward pass size (MB): 0.00\n",
      "Params size (MB): 0.00\n",
      "Estimated Total Size (MB): 0.00\n",
      "---------------------------------------------------------------------------\n",
      "\n"
     ]
    },
    {
     "data": {
      "text/plain": [
       "{'total_params': 163, 'trainable_params': 163}"
      ]
     },
     "execution_count": null,
     "metadata": {},
     "output_type": "execute_result"
    }
   ],
   "source": [
    "model = paddle.nn.Linear(162, 1)\r\n",
    "model = paddle.Model(model)\r\n",
    "model.summary((1, 1, 162))"
   ]
  },
  {
   "cell_type": "markdown",
   "metadata": {
    "collapsed": false
   },
   "source": [
    "可以看到已经包含了偏置，有163个参数"
   ]
  },
  {
   "cell_type": "code",
   "execution_count": null,
   "metadata": {
    "collapsed": false
   },
   "outputs": [
    {
     "name": "stdout",
     "output_type": "stream",
     "text": [
      "data shape: [5652, 162]\n",
      "label shape: [5652, 1]\n"
     ]
    }
   ],
   "source": [
    "# Nomalize\r\n",
    "mean_x = np.mean(x, axis=0)\r\n",
    "std_x = np.std(x, axis=0)\r\n",
    "for i in range(len(x)): # 12 * 471\r\n",
    "    for j in range(len(x[0])): # 18 * 9 \r\n",
    "        x[i][j] = (x[i][j] - mean_x[j]) / (std_x[j] + 1e-9)\r\n",
    "\r\n",
    "x_tensor = paddle.to_tensor(x.astype('float32'))\r\n",
    "y_tensor = paddle.to_tensor(y.astype('float32'))\r\n",
    "\r\n",
    "print(\"data shape:\", x_tensor.shape)\r\n",
    "print(\"label shape:\", y_tensor.shape)"
   ]
  },
  {
   "cell_type": "code",
   "execution_count": 28,
   "metadata": {
    "collapsed": false
   },
   "outputs": [],
   "source": [
    "# 模型建立\r\n",
    "model = paddle.nn.Linear(in_features=162, out_features=1)\r\n",
    "smoothL1loss = paddle.nn.SmoothL1Loss()\r\n",
    "optimizer = paddle.optimizer.Adam(learning_rate=2e-2, parameters=model.parameters())"
   ]
  },
  {
   "cell_type": "code",
   "execution_count": 29,
   "metadata": {
    "collapsed": false
   },
   "outputs": [
    {
     "name": "stdout",
     "output_type": "stream",
     "text": [
      "step 0 loss [20.950909]\n",
      "step 2000 loss [11.723677]\n",
      "step 4000 loss [11.721383]\n",
      "step 6000 loss [11.721346]\n",
      "step 8000 loss [11.721402]\n",
      "step 10000 loss [11.721395]\n",
      "step 12000 loss [11.721331]\n",
      "step 14000 loss [11.721308]\n",
      "step 16000 loss [11.7213]\n",
      "step 18000 loss [11.721315]\n",
      "\n",
      " final loss: [11.721434]\n"
     ]
    }
   ],
   "source": [
    "for step in range(20000):\r\n",
    "    y_predict = model(x_tensor)\r\n",
    "    loss = smoothL1loss(y_predict, y_tensor)\r\n",
    "    loss.backward()\r\n",
    "    optimizer.step()\r\n",
    "    optimizer.clear_grad()\r\n",
    "    if step % 2000 == 0:\r\n",
    "        # print(\"lr:\", optimizer.get_lr())\r\n",
    "        print(f\"step {step} loss {loss.numpy()}\")\r\n",
    "\r\n",
    "# print(\"\\n param:\", model.parameters())\r\n",
    "print(\"\\n final loss:\", loss.numpy())"
   ]
  },
  {
   "cell_type": "code",
   "execution_count": 30,
   "metadata": {
    "collapsed": false
   },
   "outputs": [
    {
     "data": {
      "text/plain": [
       "(4319, 11)"
      ]
     },
     "execution_count": 30,
     "metadata": {},
     "output_type": "execute_result"
    }
   ],
   "source": [
    "df_test = pd.read_csv('work/hw1_data/test.csv', encoding='big5')\r\n",
    "df_test.shape"
   ]
  },
  {
   "cell_type": "code",
   "execution_count": 31,
   "metadata": {
    "collapsed": false
   },
   "outputs": [
    {
     "data": {
      "text/html": [
       "<div>\n",
       "<style scoped>\n",
       "    .dataframe tbody tr th:only-of-type {\n",
       "        vertical-align: middle;\n",
       "    }\n",
       "\n",
       "    .dataframe tbody tr th {\n",
       "        vertical-align: top;\n",
       "    }\n",
       "\n",
       "    .dataframe thead th {\n",
       "        text-align: right;\n",
       "    }\n",
       "</style>\n",
       "<table border=\"1\" class=\"dataframe\">\n",
       "  <thead>\n",
       "    <tr style=\"text-align: right;\">\n",
       "      <th></th>\n",
       "      <th>id_0</th>\n",
       "      <th>AMB_TEMP</th>\n",
       "      <th>21</th>\n",
       "      <th>21.1</th>\n",
       "      <th>20</th>\n",
       "      <th>20.1</th>\n",
       "      <th>19</th>\n",
       "      <th>19.1</th>\n",
       "      <th>19.2</th>\n",
       "      <th>18</th>\n",
       "      <th>17</th>\n",
       "    </tr>\n",
       "  </thead>\n",
       "  <tbody>\n",
       "    <tr>\n",
       "      <th>0</th>\n",
       "      <td>id_0</td>\n",
       "      <td>CH4</td>\n",
       "      <td>1.7</td>\n",
       "      <td>1.7</td>\n",
       "      <td>1.7</td>\n",
       "      <td>1.7</td>\n",
       "      <td>1.7</td>\n",
       "      <td>1.7</td>\n",
       "      <td>1.7</td>\n",
       "      <td>1.7</td>\n",
       "      <td>1.8</td>\n",
       "    </tr>\n",
       "    <tr>\n",
       "      <th>1</th>\n",
       "      <td>id_0</td>\n",
       "      <td>CO</td>\n",
       "      <td>0.39</td>\n",
       "      <td>0.36</td>\n",
       "      <td>0.36</td>\n",
       "      <td>0.4</td>\n",
       "      <td>0.53</td>\n",
       "      <td>0.55</td>\n",
       "      <td>0.34</td>\n",
       "      <td>0.31</td>\n",
       "      <td>0.23</td>\n",
       "    </tr>\n",
       "    <tr>\n",
       "      <th>2</th>\n",
       "      <td>id_0</td>\n",
       "      <td>NMHC</td>\n",
       "      <td>0.16</td>\n",
       "      <td>0.24</td>\n",
       "      <td>0.22</td>\n",
       "      <td>0.27</td>\n",
       "      <td>0.27</td>\n",
       "      <td>0.26</td>\n",
       "      <td>0.27</td>\n",
       "      <td>0.29</td>\n",
       "      <td>0.1</td>\n",
       "    </tr>\n",
       "    <tr>\n",
       "      <th>3</th>\n",
       "      <td>id_0</td>\n",
       "      <td>NO</td>\n",
       "      <td>1.3</td>\n",
       "      <td>1.3</td>\n",
       "      <td>1.3</td>\n",
       "      <td>1.3</td>\n",
       "      <td>1.4</td>\n",
       "      <td>1.6</td>\n",
       "      <td>1.2</td>\n",
       "      <td>1.1</td>\n",
       "      <td>0.9</td>\n",
       "    </tr>\n",
       "    <tr>\n",
       "      <th>4</th>\n",
       "      <td>id_0</td>\n",
       "      <td>NO2</td>\n",
       "      <td>17</td>\n",
       "      <td>14</td>\n",
       "      <td>13</td>\n",
       "      <td>14</td>\n",
       "      <td>18</td>\n",
       "      <td>21</td>\n",
       "      <td>8.9</td>\n",
       "      <td>9.4</td>\n",
       "      <td>5</td>\n",
       "    </tr>\n",
       "    <tr>\n",
       "      <th>5</th>\n",
       "      <td>id_0</td>\n",
       "      <td>NOx</td>\n",
       "      <td>18</td>\n",
       "      <td>16</td>\n",
       "      <td>14</td>\n",
       "      <td>15</td>\n",
       "      <td>20</td>\n",
       "      <td>23</td>\n",
       "      <td>10</td>\n",
       "      <td>10</td>\n",
       "      <td>5.8</td>\n",
       "    </tr>\n",
       "    <tr>\n",
       "      <th>6</th>\n",
       "      <td>id_0</td>\n",
       "      <td>O3</td>\n",
       "      <td>32</td>\n",
       "      <td>31</td>\n",
       "      <td>31</td>\n",
       "      <td>26</td>\n",
       "      <td>16</td>\n",
       "      <td>12</td>\n",
       "      <td>27</td>\n",
       "      <td>20</td>\n",
       "      <td>26</td>\n",
       "    </tr>\n",
       "    <tr>\n",
       "      <th>7</th>\n",
       "      <td>id_0</td>\n",
       "      <td>PM10</td>\n",
       "      <td>62</td>\n",
       "      <td>50</td>\n",
       "      <td>44</td>\n",
       "      <td>39</td>\n",
       "      <td>38</td>\n",
       "      <td>32</td>\n",
       "      <td>48</td>\n",
       "      <td>36</td>\n",
       "      <td>25</td>\n",
       "    </tr>\n",
       "    <tr>\n",
       "      <th>8</th>\n",
       "      <td>id_0</td>\n",
       "      <td>PM2.5</td>\n",
       "      <td>33</td>\n",
       "      <td>39</td>\n",
       "      <td>39</td>\n",
       "      <td>25</td>\n",
       "      <td>18</td>\n",
       "      <td>18</td>\n",
       "      <td>17</td>\n",
       "      <td>9</td>\n",
       "      <td>4</td>\n",
       "    </tr>\n",
       "    <tr>\n",
       "      <th>9</th>\n",
       "      <td>id_0</td>\n",
       "      <td>RAINFALL</td>\n",
       "      <td>NR</td>\n",
       "      <td>NR</td>\n",
       "      <td>NR</td>\n",
       "      <td>NR</td>\n",
       "      <td>NR</td>\n",
       "      <td>NR</td>\n",
       "      <td>NR</td>\n",
       "      <td>NR</td>\n",
       "      <td>NR</td>\n",
       "    </tr>\n",
       "  </tbody>\n",
       "</table>\n",
       "</div>"
      ],
      "text/plain": [
       "   id_0  AMB_TEMP    21  21.1    20  20.1    19  19.1  19.2    18    17\n",
       "0  id_0       CH4   1.7   1.7   1.7   1.7   1.7   1.7   1.7   1.7   1.8\n",
       "1  id_0        CO  0.39  0.36  0.36   0.4  0.53  0.55  0.34  0.31  0.23\n",
       "2  id_0      NMHC  0.16  0.24  0.22  0.27  0.27  0.26  0.27  0.29   0.1\n",
       "3  id_0        NO   1.3   1.3   1.3   1.3   1.4   1.6   1.2   1.1   0.9\n",
       "4  id_0       NO2    17    14    13    14    18    21   8.9   9.4     5\n",
       "5  id_0       NOx    18    16    14    15    20    23    10    10   5.8\n",
       "6  id_0        O3    32    31    31    26    16    12    27    20    26\n",
       "7  id_0      PM10    62    50    44    39    38    32    48    36    25\n",
       "8  id_0     PM2.5    33    39    39    25    18    18    17     9     4\n",
       "9  id_0  RAINFALL    NR    NR    NR    NR    NR    NR    NR    NR    NR"
      ]
     },
     "execution_count": 31,
     "metadata": {},
     "output_type": "execute_result"
    }
   ],
   "source": [
    "df_test.head(10)"
   ]
  },
  {
   "cell_type": "code",
   "execution_count": 35,
   "metadata": {
    "collapsed": false
   },
   "outputs": [
    {
     "name": "stderr",
     "output_type": "stream",
     "text": [
      "/opt/conda/envs/python35-paddle120-env/lib/python3.7/site-packages/ipykernel_launcher.py:3: SettingWithCopyWarning: \n",
      "A value is trying to be set on a copy of a slice from a DataFrame.\n",
      "Try using .loc[row_indexer,col_indexer] = value instead\n",
      "\n",
      "See the caveats in the documentation: https://pandas.pydata.org/pandas-docs/stable/user_guide/indexing.html#returning-a-view-versus-a-copy\n",
      "  This is separate from the ipykernel package so we can avoid doing imports until\n",
      "/opt/conda/envs/python35-paddle120-env/lib/python3.7/site-packages/pandas/core/frame.py:3093: SettingWithCopyWarning: \n",
      "A value is trying to be set on a copy of a slice from a DataFrame\n",
      "\n",
      "See the caveats in the documentation: https://pandas.pydata.org/pandas-docs/stable/user_guide/indexing.html#returning-a-view-versus-a-copy\n",
      "  self._where(-key, value, inplace=True)\n"
     ]
    },
    {
     "data": {
      "text/plain": [
       "[240, 162]"
      ]
     },
     "execution_count": 35,
     "metadata": {},
     "output_type": "execute_result"
    }
   ],
   "source": [
    "testdata = pd.read_csv('work/hw1_data/test.csv', header = None, encoding = 'big5')\r\n",
    "test_data = testdata.iloc[:, 2:]\r\n",
    "test_data[test_data == 'NR'] = 0\r\n",
    "test_data = test_data.to_numpy()\r\n",
    "test_x = np.empty([240, 18*9], dtype = float)\r\n",
    "\r\n",
    "for i in range(240):\r\n",
    "    test_x[i, :] = test_data[18 * i: 18* (i + 1), :].reshape(1, -1)\r\n",
    "\r\n",
    "for i in range(len(test_x)):\r\n",
    "    for j in range(len(test_x[0])):\r\n",
    "        if std_x[j] != 0:\r\n",
    "            test_x[i][j] = (test_x[i][j] - mean_x[j]) / std_x[j]\r\n",
    "\r\n",
    "test_x = paddle.to_tensor(test_x.astype('float32')) \r\n",
    "test_x.shape"
   ]
  },
  {
   "cell_type": "code",
   "execution_count": 38,
   "metadata": {
    "collapsed": false
   },
   "outputs": [],
   "source": [
    "predict = model(test_x)"
   ]
  },
  {
   "cell_type": "code",
   "execution_count": 41,
   "metadata": {
    "collapsed": false
   },
   "outputs": [],
   "source": [
    "# 方式1\r\n",
    "import csv\r\n",
    "\r\n",
    "with open('work/submit2.csv', mode='w', newline='') as submit_file:\r\n",
    "    csv_writer = csv.writer(submit_file)\r\n",
    "    header = ['id', 'value']\r\n",
    "    # print(header)\r\n",
    "    csv_writer.writerow(header)\r\n",
    "    for i in range(240):\r\n",
    "        row = ['id_' + str(i), float(predict[i][0].numpy())]\r\n",
    "        csv_writer.writerow(row)\r\n",
    "        # print(row)"
   ]
  },
  {
   "cell_type": "code",
   "execution_count": 42,
   "metadata": {
    "collapsed": false
   },
   "outputs": [],
   "source": [
    "# 方式2\r\n",
    "predict_pd = pd.DataFrame(predict.numpy())\r\n",
    "predict_pd.columns = [\"value\"]\r\n",
    "predict_pd.index = ['id_' + str(i) for i in range(240)]\r\n",
    "predict_pd.to_csv('work/submit3.csv', index=True, header=True)"
   ]
  },
  {
   "cell_type": "markdown",
   "metadata": {
    "collapsed": false
   },
   "source": [
    "相关 reference 可以参考:\n",
    "\n",
    "Adagrad :\n",
    "<https://youtu.be/yKKNr-QKz2Q?list=PLJV_el3uVTsPy9oCRY30oBPNLCo89yu49&t=705>\n",
    "\n",
    "RMSprop : \n",
    "<https://www.youtube.com/watch?v=5Yt-obwvMHI> \n",
    "\n",
    "Adam\n",
    "<https://www.youtube.com/watch?v=JXQT_vxqwIs> \n",
    "\n"
   ]
  }
 ],
 "metadata": {
  "kernelspec": {
   "display_name": "PaddlePaddle 2.0.0b0 (Python 3.5)",
   "language": "python",
   "name": "py35-paddle1.2.0"
  }
 },
 "nbformat": 4,
 "nbformat_minor": 1
}
