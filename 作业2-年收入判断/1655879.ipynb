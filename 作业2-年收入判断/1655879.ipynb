{
 "cells": [
  {
   "cell_type": "markdown",
   "metadata": {
    "collapsed": false
   },
   "source": [
    "# 作业2-年收入判断\n",
    "\n",
    "## 项目描述\n",
    "二元分类是机器学习中最基础的问题之一，在这份教学中，你将学会如何实作一个线性二元分类器，来根据人们的个人资料，判断其年收入是否高于 50,000 美元。我们将以两种方法: logistic regression 与 generative model，来达成以上目的，你可以尝试了解、分析两者的设计理念及差别。\n",
    "实现二分类任务：\n",
    "* 个人收入是否超过50000元？\n",
    "\n",
    "## 数据集介绍\n",
    "这个资料集是由UCI Machine Learning Repository 的Census-Income (KDD) Data Set 经过一些处理而得来。为了方便训练，我们移除了一些不必要的资讯，并且稍微平衡了正负两种标记的比例。事实上在训练过程中，只有 X_train、Y_train 和 X_test 这三个经过处理的档案会被使用到，train.csv 和 test.csv 这两个原始资料档则可以提供你一些额外的资讯。\n",
    "* 已经去除不必要的属性。\n",
    "* 已经平衡正标和负标数据之间的比例。\n",
    "\n",
    "**特征格式**\n",
    "1. train.csv，test_no_label.csv。\n",
    "* 基于文本的原始数据\n",
    "* 去掉不必要的属性，平衡正负比例。\n",
    "2. X_train, Y_train, X_test(测试)\n",
    "* train.csv中的离散特征=>在X_train中onehot编码(学历、状态...)\n",
    "* train.csv中的连续特征 => 在X_train中保持不变(年龄、资本损失...)。\n",
    "* X_train, X_test : 每一行包含一个510-dim的特征，代表一个样本。\n",
    "* Y_train: label = 0 表示 \"<=50K\" 、 label = 1 表示 \" >50K \" 。\n",
    "\n",
    "## 项目要求\n",
    "1. 请动手编写 gradient descent 实现 logistic regression\n",
    "1. 请动手实现概率生成模型。\n",
    "1. 单个代码块运行时长应低于五分钟。\n",
    "1. 禁止使用任何开源的代码(例如，你在GitHub上找到的决策树的实现)。\n",
    "\n",
    "## 数据准备\n",
    "项目数据保存在：work/data/ 目录下。\n",
    "\n",
    "## 环境配置/安装\n",
    "无"
   ]
  },
  {
   "cell_type": "code",
   "execution_count": 23,
   "metadata": {
    "collapsed": false
   },
   "outputs": [],
   "source": [
    "import pandas as pd\n",
    "import numpy as np\n",
    "import matplotlib.pyplot as plt"
   ]
  },
  {
   "cell_type": "code",
   "execution_count": null,
   "metadata": {
    "collapsed": false
   },
   "outputs": [
    {
     "name": "stdout",
     "output_type": "stream",
     "text": [
      "(54257, 42)\n"
     ]
    },
    {
     "name": "stderr",
     "output_type": "stream",
     "text": [
      "/opt/conda/envs/python35-paddle120-env/lib/python3.7/site-packages/IPython/core/interactiveshell.py:3018: DtypeWarning: Columns (0,1,3,4,6,17,18,19,30,36,38,39,40) have mixed types.Specify dtype option on import or set low_memory=False.\n",
      "  interactivity=interactivity, compiler=compiler, result=result)\n"
     ]
    },
    {
     "data": {
      "text/html": [
       "<div>\n",
       "<style scoped>\n",
       "    .dataframe tbody tr th:only-of-type {\n",
       "        vertical-align: middle;\n",
       "    }\n",
       "\n",
       "    .dataframe tbody tr th {\n",
       "        vertical-align: top;\n",
       "    }\n",
       "\n",
       "    .dataframe thead th {\n",
       "        text-align: right;\n",
       "    }\n",
       "</style>\n",
       "<table border=\"1\" class=\"dataframe\">\n",
       "  <thead>\n",
       "    <tr style=\"text-align: right;\">\n",
       "      <th></th>\n",
       "      <th>0</th>\n",
       "      <th>1</th>\n",
       "      <th>2</th>\n",
       "      <th>3</th>\n",
       "      <th>4</th>\n",
       "      <th>5</th>\n",
       "      <th>6</th>\n",
       "      <th>7</th>\n",
       "      <th>8</th>\n",
       "      <th>9</th>\n",
       "      <th>...</th>\n",
       "      <th>32</th>\n",
       "      <th>33</th>\n",
       "      <th>34</th>\n",
       "      <th>35</th>\n",
       "      <th>36</th>\n",
       "      <th>37</th>\n",
       "      <th>38</th>\n",
       "      <th>39</th>\n",
       "      <th>40</th>\n",
       "      <th>41</th>\n",
       "    </tr>\n",
       "  </thead>\n",
       "  <tbody>\n",
       "    <tr>\n",
       "      <th>0</th>\n",
       "      <td>id</td>\n",
       "      <td>age</td>\n",
       "      <td>class of worker</td>\n",
       "      <td>detailed industry recode</td>\n",
       "      <td>detailed occupation recode</td>\n",
       "      <td>education</td>\n",
       "      <td>wage per hour</td>\n",
       "      <td>enroll in edu inst last wk</td>\n",
       "      <td>marital stat</td>\n",
       "      <td>major industry code</td>\n",
       "      <td>...</td>\n",
       "      <td>country of birth father</td>\n",
       "      <td>country of birth mother</td>\n",
       "      <td>country of birth self</td>\n",
       "      <td>citizenship</td>\n",
       "      <td>own business or self employed</td>\n",
       "      <td>fill inc questionnaire for veteran's admin</td>\n",
       "      <td>veterans benefits</td>\n",
       "      <td>weeks worked in year</td>\n",
       "      <td>year</td>\n",
       "      <td>y</td>\n",
       "    </tr>\n",
       "    <tr>\n",
       "      <th>1</th>\n",
       "      <td>0</td>\n",
       "      <td>33</td>\n",
       "      <td>Private</td>\n",
       "      <td>34</td>\n",
       "      <td>26</td>\n",
       "      <td>Masters degree(MA MS MEng MEd MSW MBA)</td>\n",
       "      <td>0</td>\n",
       "      <td>Not in universe</td>\n",
       "      <td>Married-civilian spouse present</td>\n",
       "      <td>Finance insurance and real estate</td>\n",
       "      <td>...</td>\n",
       "      <td>China</td>\n",
       "      <td>China</td>\n",
       "      <td>Taiwan</td>\n",
       "      <td>Foreign born- Not a citizen of U S</td>\n",
       "      <td>2</td>\n",
       "      <td>Not in universe</td>\n",
       "      <td>2</td>\n",
       "      <td>52</td>\n",
       "      <td>95</td>\n",
       "      <td>50000+.</td>\n",
       "    </tr>\n",
       "    <tr>\n",
       "      <th>2</th>\n",
       "      <td>1</td>\n",
       "      <td>63</td>\n",
       "      <td>Private</td>\n",
       "      <td>7</td>\n",
       "      <td>22</td>\n",
       "      <td>Some college but no degree</td>\n",
       "      <td>0</td>\n",
       "      <td>Not in universe</td>\n",
       "      <td>Never married</td>\n",
       "      <td>Manufacturing-durable goods</td>\n",
       "      <td>...</td>\n",
       "      <td>?</td>\n",
       "      <td>?</td>\n",
       "      <td>United-States</td>\n",
       "      <td>Native- Born in the United States</td>\n",
       "      <td>0</td>\n",
       "      <td>Not in universe</td>\n",
       "      <td>2</td>\n",
       "      <td>52</td>\n",
       "      <td>95</td>\n",
       "      <td>- 50000.</td>\n",
       "    </tr>\n",
       "    <tr>\n",
       "      <th>3</th>\n",
       "      <td>2</td>\n",
       "      <td>71</td>\n",
       "      <td>Not in universe</td>\n",
       "      <td>0</td>\n",
       "      <td>0</td>\n",
       "      <td>7th and 8th grade</td>\n",
       "      <td>0</td>\n",
       "      <td>Not in universe</td>\n",
       "      <td>Married-civilian spouse present</td>\n",
       "      <td>Not in universe or children</td>\n",
       "      <td>...</td>\n",
       "      <td>Germany</td>\n",
       "      <td>United-States</td>\n",
       "      <td>United-States</td>\n",
       "      <td>Native- Born in the United States</td>\n",
       "      <td>0</td>\n",
       "      <td>Not in universe</td>\n",
       "      <td>2</td>\n",
       "      <td>0</td>\n",
       "      <td>95</td>\n",
       "      <td>- 50000.</td>\n",
       "    </tr>\n",
       "    <tr>\n",
       "      <th>4</th>\n",
       "      <td>3</td>\n",
       "      <td>43</td>\n",
       "      <td>Local government</td>\n",
       "      <td>43</td>\n",
       "      <td>10</td>\n",
       "      <td>Bachelors degree(BA AB BS)</td>\n",
       "      <td>0</td>\n",
       "      <td>Not in universe</td>\n",
       "      <td>Married-civilian spouse present</td>\n",
       "      <td>Education</td>\n",
       "      <td>...</td>\n",
       "      <td>United-States</td>\n",
       "      <td>United-States</td>\n",
       "      <td>United-States</td>\n",
       "      <td>Native- Born in the United States</td>\n",
       "      <td>0</td>\n",
       "      <td>Not in universe</td>\n",
       "      <td>2</td>\n",
       "      <td>52</td>\n",
       "      <td>95</td>\n",
       "      <td>- 50000.</td>\n",
       "    </tr>\n",
       "  </tbody>\n",
       "</table>\n",
       "<p>5 rows × 42 columns</p>\n",
       "</div>"
      ],
      "text/plain": [
       "   0    1                  2                         3   \\\n",
       "0  id  age    class of worker  detailed industry recode   \n",
       "1   0   33            Private                        34   \n",
       "2   1   63            Private                         7   \n",
       "3   2   71    Not in universe                         0   \n",
       "4   3   43   Local government                        43   \n",
       "\n",
       "                           4                                        5   \\\n",
       "0  detailed occupation recode                                education   \n",
       "1                          26   Masters degree(MA MS MEng MEd MSW MBA)   \n",
       "2                          22               Some college but no degree   \n",
       "3                           0                        7th and 8th grade   \n",
       "4                          10               Bachelors degree(BA AB BS)   \n",
       "\n",
       "              6                           7   \\\n",
       "0  wage per hour  enroll in edu inst last wk   \n",
       "1              0             Not in universe   \n",
       "2              0             Not in universe   \n",
       "3              0             Not in universe   \n",
       "4              0             Not in universe   \n",
       "\n",
       "                                 8                                   9   ...  \\\n",
       "0                      marital stat                 major industry code  ...   \n",
       "1   Married-civilian spouse present   Finance insurance and real estate  ...   \n",
       "2                     Never married         Manufacturing-durable goods  ...   \n",
       "3   Married-civilian spouse present         Not in universe or children  ...   \n",
       "4   Married-civilian spouse present                           Education  ...   \n",
       "\n",
       "                        32                       33                     34  \\\n",
       "0  country of birth father  country of birth mother  country of birth self   \n",
       "1                    China                    China                 Taiwan   \n",
       "2                        ?                        ?          United-States   \n",
       "3                  Germany            United-States          United-States   \n",
       "4            United-States            United-States          United-States   \n",
       "\n",
       "                                     35                             36  \\\n",
       "0                           citizenship  own business or self employed   \n",
       "1   Foreign born- Not a citizen of U S                               2   \n",
       "2     Native- Born in the United States                              0   \n",
       "3     Native- Born in the United States                              0   \n",
       "4     Native- Born in the United States                              0   \n",
       "\n",
       "                                           37                 38  \\\n",
       "0  fill inc questionnaire for veteran's admin  veterans benefits   \n",
       "1                             Not in universe                  2   \n",
       "2                             Not in universe                  2   \n",
       "3                             Not in universe                  2   \n",
       "4                             Not in universe                  2   \n",
       "\n",
       "                     39    40         41  \n",
       "0  weeks worked in year  year          y  \n",
       "1                    52    95    50000+.  \n",
       "2                    52    95   - 50000.  \n",
       "3                     0    95   - 50000.  \n",
       "4                    52    95   - 50000.  \n",
       "\n",
       "[5 rows x 42 columns]"
      ]
     },
     "execution_count": null,
     "metadata": {},
     "output_type": "execute_result"
    }
   ],
   "source": [
    "df = pd.read_csv('work/data/train.csv', header=None, encoding='big5')\r\n",
    "print(df.shape)\r\n",
    "df.head()"
   ]
  },
  {
   "cell_type": "code",
   "execution_count": null,
   "metadata": {
    "collapsed": false
   },
   "outputs": [
    {
     "name": "stderr",
     "output_type": "stream",
     "text": [
      "/opt/conda/envs/python35-paddle120-env/lib/python3.7/site-packages/IPython/core/interactiveshell.py:3018: DtypeWarning: Columns (0,1,2,3,4,5,6,7,8,9,10,110,111,112,113,114,115,116,117,118,119,120,121,122,123,124,125,126,127,128,129,130,131,132,133,134,135,136,137,138,139,140,141,142,143,144,145,146,147,148,149,150,151,152,153,154,155,156,157,158,159,160,161,162,163,164,165,166,167,168,169,170,171,172,173,174,175,176,177,178,179,180,181,182,183,184,185,186,187,188,189,190,191,192,193,194,195,196,197,198,199,200,201,202,203,204,205,206,207,208,209,210,211,212,213,214,215,216,217,218,219,220,221,222,223,224,225,226,227,228,229,230,231,232,233,234,235,236,237,238,239,240,241,242,243,244,245,246,247,248,249,250,251,252,253,254,255,256,257,258,259,260,261,262,263,264,265,266,267,268,269,270,271,272,273,274,275,276,277,278,279,280,281,282,283,284,285,286,287,288,289,290,291,292,293,294,295,296,297,298,299,300,301,302,303,304,305,306,307,308,309,310,311,312,313,314,315,316,317,318,319,320,321,322,323,324,325,326,327,328,329,330,331,332,333,334,335,336,337,338,339,340,341,342,343,344,345,346,347,348,349,350,351,352,353,354,355,356,357,358,359,360,361,362,363,364,365,366,367,368,369,370,371,372,373,374,375,376,377,378,379,380,381,382,383,384,385,386,387,388,389,390,391,392,393,394,395,396,397,398,399,400,401,402,403,404,405,406,407,408,409,410,411,412,413,414,415,416,417,418,419,420,421,422,423,424,425,426,427,428,429,430,431,432,433,434,435,436,437,438,439,440,441,442,443,444,445,446,447,448,449,450,451,452,453,454,455,456,457,458,459,460,461,462,463,464,465,466,467,468,469,470,471,472,473,474,475,476,477,478,479,480,481,482,483,484,485,486,487,488,489,490,491,492,493,494,495,496,497,498,502,503,504,508) have mixed types.Specify dtype option on import or set low_memory=False.\n",
      "  interactivity=interactivity, compiler=compiler, result=result)\n"
     ]
    },
    {
     "name": "stdout",
     "output_type": "stream",
     "text": [
      "(54257, 511)\n"
     ]
    },
    {
     "data": {
      "text/html": [
       "<div>\n",
       "<style scoped>\n",
       "    .dataframe tbody tr th:only-of-type {\n",
       "        vertical-align: middle;\n",
       "    }\n",
       "\n",
       "    .dataframe tbody tr th {\n",
       "        vertical-align: top;\n",
       "    }\n",
       "\n",
       "    .dataframe thead th {\n",
       "        text-align: right;\n",
       "    }\n",
       "</style>\n",
       "<table border=\"1\" class=\"dataframe\">\n",
       "  <thead>\n",
       "    <tr style=\"text-align: right;\">\n",
       "      <th></th>\n",
       "      <th>0</th>\n",
       "      <th>1</th>\n",
       "      <th>2</th>\n",
       "      <th>3</th>\n",
       "      <th>4</th>\n",
       "      <th>5</th>\n",
       "      <th>6</th>\n",
       "      <th>7</th>\n",
       "      <th>8</th>\n",
       "      <th>9</th>\n",
       "      <th>...</th>\n",
       "      <th>501</th>\n",
       "      <th>502</th>\n",
       "      <th>503</th>\n",
       "      <th>504</th>\n",
       "      <th>505</th>\n",
       "      <th>506</th>\n",
       "      <th>507</th>\n",
       "      <th>508</th>\n",
       "      <th>509</th>\n",
       "      <th>510</th>\n",
       "    </tr>\n",
       "  </thead>\n",
       "  <tbody>\n",
       "    <tr>\n",
       "      <th>0</th>\n",
       "      <td>id</td>\n",
       "      <td>age</td>\n",
       "      <td>Private</td>\n",
       "      <td>Self-employed-incorporated</td>\n",
       "      <td>State government</td>\n",
       "      <td>Self-employed-not incorporated</td>\n",
       "      <td>Not in universe</td>\n",
       "      <td>Without pay</td>\n",
       "      <td>Federal government</td>\n",
       "      <td>Never worked</td>\n",
       "      <td>...</td>\n",
       "      <td>1</td>\n",
       "      <td>Not in universe</td>\n",
       "      <td>Yes</td>\n",
       "      <td>No</td>\n",
       "      <td>2</td>\n",
       "      <td>0</td>\n",
       "      <td>1</td>\n",
       "      <td>weeks worked in year</td>\n",
       "      <td>94</td>\n",
       "      <td>95</td>\n",
       "    </tr>\n",
       "    <tr>\n",
       "      <th>1</th>\n",
       "      <td>0</td>\n",
       "      <td>33</td>\n",
       "      <td>1</td>\n",
       "      <td>0</td>\n",
       "      <td>0</td>\n",
       "      <td>0</td>\n",
       "      <td>0</td>\n",
       "      <td>0</td>\n",
       "      <td>0</td>\n",
       "      <td>0</td>\n",
       "      <td>...</td>\n",
       "      <td>0</td>\n",
       "      <td>1</td>\n",
       "      <td>0</td>\n",
       "      <td>0</td>\n",
       "      <td>1</td>\n",
       "      <td>0</td>\n",
       "      <td>0</td>\n",
       "      <td>52</td>\n",
       "      <td>0</td>\n",
       "      <td>1</td>\n",
       "    </tr>\n",
       "    <tr>\n",
       "      <th>2</th>\n",
       "      <td>1</td>\n",
       "      <td>63</td>\n",
       "      <td>1</td>\n",
       "      <td>0</td>\n",
       "      <td>0</td>\n",
       "      <td>0</td>\n",
       "      <td>0</td>\n",
       "      <td>0</td>\n",
       "      <td>0</td>\n",
       "      <td>0</td>\n",
       "      <td>...</td>\n",
       "      <td>0</td>\n",
       "      <td>1</td>\n",
       "      <td>0</td>\n",
       "      <td>0</td>\n",
       "      <td>1</td>\n",
       "      <td>0</td>\n",
       "      <td>0</td>\n",
       "      <td>52</td>\n",
       "      <td>0</td>\n",
       "      <td>1</td>\n",
       "    </tr>\n",
       "    <tr>\n",
       "      <th>3</th>\n",
       "      <td>2</td>\n",
       "      <td>71</td>\n",
       "      <td>0</td>\n",
       "      <td>0</td>\n",
       "      <td>0</td>\n",
       "      <td>0</td>\n",
       "      <td>1</td>\n",
       "      <td>0</td>\n",
       "      <td>0</td>\n",
       "      <td>0</td>\n",
       "      <td>...</td>\n",
       "      <td>0</td>\n",
       "      <td>1</td>\n",
       "      <td>0</td>\n",
       "      <td>0</td>\n",
       "      <td>1</td>\n",
       "      <td>0</td>\n",
       "      <td>0</td>\n",
       "      <td>0</td>\n",
       "      <td>0</td>\n",
       "      <td>1</td>\n",
       "    </tr>\n",
       "    <tr>\n",
       "      <th>4</th>\n",
       "      <td>3</td>\n",
       "      <td>43</td>\n",
       "      <td>0</td>\n",
       "      <td>0</td>\n",
       "      <td>0</td>\n",
       "      <td>0</td>\n",
       "      <td>0</td>\n",
       "      <td>0</td>\n",
       "      <td>0</td>\n",
       "      <td>0</td>\n",
       "      <td>...</td>\n",
       "      <td>0</td>\n",
       "      <td>1</td>\n",
       "      <td>0</td>\n",
       "      <td>0</td>\n",
       "      <td>1</td>\n",
       "      <td>0</td>\n",
       "      <td>0</td>\n",
       "      <td>52</td>\n",
       "      <td>0</td>\n",
       "      <td>1</td>\n",
       "    </tr>\n",
       "  </tbody>\n",
       "</table>\n",
       "<p>5 rows × 511 columns</p>\n",
       "</div>"
      ],
      "text/plain": [
       "  0    1         2                            3                  4    \\\n",
       "0  id  age   Private   Self-employed-incorporated   State government   \n",
       "1   0   33         1                            0                  0   \n",
       "2   1   63         1                            0                  0   \n",
       "3   2   71         0                            0                  0   \n",
       "4   3   43         0                            0                  0   \n",
       "\n",
       "                               5                 6             7    \\\n",
       "0   Self-employed-not incorporated   Not in universe   Without pay   \n",
       "1                                0                 0             0   \n",
       "2                                0                 0             0   \n",
       "3                                0                 1             0   \n",
       "4                                0                 0             0   \n",
       "\n",
       "                   8              9    ... 501               502   503  504  \\\n",
       "0   Federal government   Never worked  ...   1   Not in universe   Yes   No   \n",
       "1                    0              0  ...   0                 1     0    0   \n",
       "2                    0              0  ...   0                 1     0    0   \n",
       "3                    0              0  ...   0                 1     0    0   \n",
       "4                    0              0  ...   0                 1     0    0   \n",
       "\n",
       "   505  506  507                   508  509  510  \n",
       "0    2    0    1  weeks worked in year   94   95  \n",
       "1    1    0    0                    52    0    1  \n",
       "2    1    0    0                    52    0    1  \n",
       "3    1    0    0                     0    0    1  \n",
       "4    1    0    0                    52    0    1  \n",
       "\n",
       "[5 rows x 511 columns]"
      ]
     },
     "execution_count": null,
     "metadata": {},
     "output_type": "execute_result"
    }
   ],
   "source": [
    "df = pd.read_csv('work/data/X_train', header=None, encoding='big5')\r\n",
    "print(df.shape)\r\n",
    "df.head()"
   ]
  },
  {
   "cell_type": "markdown",
   "metadata": {
    "collapsed": false
   },
   "source": [
    "## Preparing Data\n",
    "对属性进行正则化，处理过后划分为训练集和验证集"
   ]
  },
  {
   "cell_type": "code",
   "execution_count": null,
   "metadata": {
    "collapsed": false
   },
   "outputs": [
    {
     "name": "stdout",
     "output_type": "stream",
     "text": [
      "Size of training set: 48830\n",
      "Size of eval set: 5426\n",
      "Size of testing set: 27622\n",
      "Dimension of data: 510\n"
     ]
    }
   ],
   "source": [
    "np.random.seed(0)\r\n",
    "X_train_fpath = 'work/data/X_train'\r\n",
    "Y_train_fpath = 'work/data/Y_train'\r\n",
    "X_test_fpath = 'work/data/X_test'\r\n",
    "output_fpath = 'work/output_{}.csv'\r\n",
    "\r\n",
    "# Parse csv files to numpy array\r\n",
    "with open(X_train_fpath) as f:\r\n",
    "    next(f)\r\n",
    "    X_train = np.array([line.strip('\\n').split(',')[1:] for line in f], dtype = float)\r\n",
    "with open(Y_train_fpath) as f:\r\n",
    "    next(f)\r\n",
    "    Y_train = np.array([line.strip('\\n').split(',')[1] for line in f], dtype = float)\r\n",
    "with open(X_test_fpath) as f:\r\n",
    "    next(f)\r\n",
    "    X_test = np.array([line.strip('\\n').split(',')[1:] for line in f], dtype = float)\r\n",
    "\r\n",
    "# 规范化\r\n",
    "def _normalize(X, train = True, specified_column = None, X_mean = None, X_std = None):\r\n",
    "    # This function normalizes specific columns of X.\r\n",
    "    # The mean and standard variance of training data will be reused when processing testing data.\r\n",
    "    #\r\n",
    "    # Arguments:\r\n",
    "    #     X: data to be processed\r\n",
    "    #     train: 'True' when processing training data, 'False' for testing data\r\n",
    "    #     specific_column: indexes of the columns that will be normalized. If 'None', all columns\r\n",
    "    #         will be normalized.\r\n",
    "    #     X_mean: mean value of training data, used when train = 'False'\r\n",
    "    #     X_std: standard deviation of training data, used when train = 'False'\r\n",
    "    # Outputs:\r\n",
    "    #     X: normalized data\r\n",
    "    #     X_mean: computed mean value of training data\r\n",
    "    #     X_std: computed standard deviation of training data\r\n",
    "\r\n",
    "    if specified_column == None:\r\n",
    "        specified_column = np.arange(X.shape[1])\r\n",
    "    if train:\r\n",
    "        X_mean = np.mean(X[:, specified_column] ,0).reshape(1, -1)\r\n",
    "        X_std  = np.std(X[:, specified_column], 0).reshape(1, -1)\r\n",
    "\r\n",
    "    X[:,specified_column] = (X[:, specified_column] - X_mean) / (X_std + 1e-8)\r\n",
    "     \r\n",
    "    return X, X_mean, X_std\r\n",
    "\r\n",
    "def _train_dev_split(X, Y, dev_ratio = 0.25):\r\n",
    "    # This function spilts data into training set and development set.\r\n",
    "    train_size = int(len(X) * (1 - dev_ratio))\r\n",
    "    return X[:train_size], Y[:train_size], X[train_size:], Y[train_size:]\r\n",
    "\r\n",
    "# Normalize training and testing data\r\n",
    "X_train, X_mean, X_std = _normalize(X_train, train = True)\r\n",
    "X_test, _, _ = _normalize(X_test, train = False, specified_column = None, X_mean = X_mean, X_std = X_std)\r\n",
    "    \r\n",
    "# Split data into training set and development set\r\n",
    "dev_ratio = 0.1\r\n",
    "# 9:1\r\n",
    "X_train, Y_train, X_eval, Y_eval = _train_dev_split(X_train, Y_train, dev_ratio = dev_ratio)\r\n",
    "\r\n",
    "train_size = X_train.shape[0]\r\n",
    "eval_size = X_eval.shape[0]\r\n",
    "test_size = X_test.shape[0]\r\n",
    "data_dim = X_train.shape[1]\r\n",
    "\r\n",
    "print('Size of training set: {}'.format(X_train.shape[0]))\r\n",
    "print('Size of eval set: {}'.format(X_eval.shape[0]))\r\n",
    "print('Size of testing set: {}'.format(X_test.shape[0]))\r\n",
    "print('Dimension of data: {}'.format(data_dim))"
   ]
  },
  {
   "cell_type": "markdown",
   "metadata": {
    "collapsed": false
   },
   "source": [
    "## Some Useful Functions"
   ]
  },
  {
   "cell_type": "code",
   "execution_count": null,
   "metadata": {
    "collapsed": false
   },
   "outputs": [],
   "source": [
    "def _shuffle(X, Y):\r\n",
    "    # This function shuffles two equal-length list/array, X and Y, together.\r\n",
    "    randomize = np.arange(len(X))\r\n",
    "    np.random.shuffle(randomize)\r\n",
    "    return (X[randomize], Y[randomize])\r\n",
    "\r\n",
    "def _sigmoid(z):\r\n",
    "    # Sigmoid function can be used to calculate probability.\r\n",
    "    # To avoid overflow, minimum/maximum output value is set.\r\n",
    "    return np.clip(1 / (1.0 + np.exp(-z)), 1e-8, 1 - (1e-8))\r\n",
    "\r\n",
    "def _f(X, w, b):\r\n",
    "    # This is the logistic regression function, parameterized by w and b\r\n",
    "    #\r\n",
    "    # Arguements:\r\n",
    "    #     X: input data, shape = [batch_size, data_dimension]\r\n",
    "    #     w: weight vector, shape = [data_dimension, ]\r\n",
    "    #     b: bias, scalar\r\n",
    "    # Output:\r\n",
    "    #     predicted probability of each row of X being positively labeled, shape = [batch_size, ]\r\n",
    "    return _sigmoid(np.matmul(X, w) + b)\r\n",
    "\r\n",
    "def _predict(X, w, b):\r\n",
    "    # This function returns a truth value prediction for each row of X \r\n",
    "    # by rounding the result of logistic regression function.\r\n",
    "    return np.round(_f(X, w, b)).astype(np.int)\r\n",
    "    \r\n",
    "def _accuracy(Y_pred, Y_label):\r\n",
    "    # This function calculates prediction accuracy\r\n",
    "    acc = 1 - np.mean(np.abs(Y_pred - Y_label))\r\n",
    "    return acc"
   ]
  },
  {
   "cell_type": "markdown",
   "metadata": {
    "collapsed": false
   },
   "source": [
    "## Functions about gradient and loss"
   ]
  },
  {
   "cell_type": "code",
   "execution_count": null,
   "metadata": {
    "collapsed": false
   },
   "outputs": [],
   "source": [
    "# 交叉熵损失 if 0-1损失 第二项为0\r\n",
    "def _cross_entropy_loss(y_pred, Y_label):\r\n",
    "    # This function computes the cross entropy.\r\n",
    "    #\r\n",
    "    # Arguements:\r\n",
    "    #     y_pred: probabilistic predictions, float vector\r\n",
    "    #     Y_label: ground truth labels, bool vector\r\n",
    "    # Output:\r\n",
    "    #     cross entropy, scalar\r\n",
    "    cross_entropy = -np.dot(Y_label, np.log(y_pred)) - np.dot((1 - Y_label), np.log(1 - y_pred))\r\n",
    "    return cross_entropy\r\n",
    "\r\n",
    "# \r\n",
    "def _gradient(X, Y_label, w, b):\r\n",
    "    # This function computes the gradient of cross entropy loss with respect to weight w and bias b.\r\n",
    "    y_pred = _f(X, w, b)\r\n",
    "    pred_error = Y_label - y_pred\r\n",
    "    w_grad = -np.sum(pred_error * X.T, 1)\r\n",
    "    b_grad = -np.sum(pred_error)\r\n",
    "    return w_grad, b_grad"
   ]
  },
  {
   "cell_type": "markdown",
   "metadata": {
    "collapsed": false
   },
   "source": [
    "## Trainning\n",
    "`Mini-batch`"
   ]
  },
  {
   "cell_type": "code",
   "execution_count": 21,
   "metadata": {
    "collapsed": false
   },
   "outputs": [
    {
     "name": "stdout",
     "output_type": "stream",
     "text": [
      "Epoch 0/10, step 50/381 : train_loss = 1.347386236965906, train_acc = 0.8488224452181037, eval_loss = 1.400598892932686, eval_acc = 0.8518245484703281\n"
     ]
    },
    {
     "name": "stderr",
     "output_type": "stream",
     "text": [
      "/opt/conda/envs/python35-paddle120-env/lib/python3.7/site-packages/ipykernel_launcher.py:10: RuntimeWarning: overflow encountered in exp\n",
      "  # Remove the CWD from sys.path while we load stuff.\n"
     ]
    },
    {
     "name": "stdout",
     "output_type": "stream",
     "text": [
      "Epoch 0/10, step 100/381 : train_loss = 0.9152016432029676, train_acc = 0.8617857874257628, eval_loss = 0.965991675211801, eval_acc = 0.8558791006266127\n",
      "Epoch 0/10, step 150/381 : train_loss = 0.7852583061703493, train_acc = 0.8539627278312513, eval_loss = 0.8467023409488244, eval_acc = 0.8497972723921858\n",
      "Epoch 0/10, step 200/381 : train_loss = 0.6855500080014343, train_acc = 0.8627687896784764, eval_loss = 0.7420444348505428, eval_acc = 0.8510873571691854\n",
      "Epoch 0/10, step 250/381 : train_loss = 0.6626799916718044, train_acc = 0.8518533688306369, eval_loss = 0.6843539759344478, eval_acc = 0.8462956137117582\n",
      "Epoch 0/10, step 300/381 : train_loss = 0.6722368835334585, train_acc = 0.850419823878763, eval_loss = 0.7212556694191992, eval_acc = 0.8431625506819019\n",
      "Epoch 0/10, step 350/381 : train_loss = 0.5415013375184299, train_acc = 0.8645095228343231, eval_loss = 0.5956548816527707, eval_acc = 0.8534832288978991\n",
      "Epoch 0/10, step 380/381 : train_loss = 0.5476793641705842, train_acc = 0.8615605160761827, eval_loss = 0.5971872765737423, eval_acc = 0.8573534832288979\n",
      "Epoch 1/10, step 50/381 : train_loss = 0.520197120568741, train_acc = 0.8530821216465287, eval_loss = 0.5756371351198375, eval_acc = 0.8475856984887579\n",
      "Epoch 1/10, step 100/381 : train_loss = 0.4683572388702472, train_acc = 0.8602498464058981, eval_loss = 0.5151070012119039, eval_acc = 0.8496129745669001\n",
      "Epoch 1/10, step 150/381 : train_loss = 0.44626484885429574, train_acc = 0.8692607003891051, eval_loss = 0.4765391936828192, eval_acc = 0.8650939918908958\n",
      "Epoch 1/10, step 200/381 : train_loss = 0.46375217192688756, train_acc = 0.8594921155027647, eval_loss = 0.5209083007160215, eval_acc = 0.852930335422042\n",
      "Epoch 1/10, step 250/381 : train_loss = 0.4494819665359848, train_acc = 0.8585910301044439, eval_loss = 0.4937525184406186, eval_acc = 0.8516402506450425\n",
      "Epoch 1/10, step 300/381 : train_loss = 0.42552905318999246, train_acc = 0.8556010649191071, eval_loss = 0.45717340275441076, eval_acc = 0.8514559528197567\n",
      "Epoch 1/10, step 350/381 : train_loss = 0.42113694236968163, train_acc = 0.8607823059594512, eval_loss = 0.46348429781456685, eval_acc = 0.852930335422042\n",
      "Epoch 1/10, step 380/381 : train_loss = 0.39904321655303177, train_acc = 0.8648986278926889, eval_loss = 0.4248971078552518, eval_acc = 0.86490969406561\n",
      "Epoch 2/10, step 50/381 : train_loss = 0.4346224720366914, train_acc = 0.8548023755887774, eval_loss = 0.4609538098915485, eval_acc = 0.8485071876151862\n",
      "Epoch 2/10, step 100/381 : train_loss = 0.3923956025090415, train_acc = 0.8670079868933033, eval_loss = 0.42413396929246294, eval_acc = 0.8586435680058975\n",
      "Epoch 2/10, step 150/381 : train_loss = 0.3995503389795209, train_acc = 0.8609870980954332, eval_loss = 0.4451562989979174, eval_acc = 0.8499815702174714\n",
      "Epoch 2/10, step 200/381 : train_loss = 0.3899945539693655, train_acc = 0.8572803604341593, eval_loss = 0.43982862908042286, eval_acc = 0.8440840398083302\n",
      "Epoch 2/10, step 250/381 : train_loss = 0.3593450339469139, train_acc = 0.8709809543313537, eval_loss = 0.40433358814068665, eval_acc = 0.8604865462587541\n",
      "Epoch 2/10, step 300/381 : train_loss = 0.3748111111601529, train_acc = 0.8675199672332583, eval_loss = 0.4196960003401859, eval_acc = 0.8617766310357537\n",
      "Epoch 2/10, step 350/381 : train_loss = 0.3703513254990469, train_acc = 0.8669260700389105, eval_loss = 0.41804964042741555, eval_acc = 0.8520088462956137\n",
      "Epoch 2/10, step 380/381 : train_loss = 0.36328355503504767, train_acc = 0.8688306369035429, eval_loss = 0.395140184186746, eval_acc = 0.8608551419093254\n",
      "Epoch 3/10, step 50/381 : train_loss = 0.3667617885217751, train_acc = 0.8671308621748925, eval_loss = 0.40048983606743443, eval_acc = 0.8604865462587541\n",
      "Epoch 3/10, step 100/381 : train_loss = 0.35360533975074676, train_acc = 0.8685644071267663, eval_loss = 0.39086426288977333, eval_acc = 0.8650939918908958\n",
      "Epoch 3/10, step 150/381 : train_loss = 0.35412973445213575, train_acc = 0.8656563587958223, eval_loss = 0.39303244637743845, eval_acc = 0.8584592701806119\n",
      "Epoch 3/10, step 200/381 : train_loss = 0.3590742324953709, train_acc = 0.8645709604751177, eval_loss = 0.3944381871174818, eval_acc = 0.8617766310357537\n",
      "Epoch 3/10, step 250/381 : train_loss = 0.3664068327141785, train_acc = 0.8649805447470817, eval_loss = 0.4009416310136879, eval_acc = 0.854036122373756\n",
      "Epoch 3/10, step 300/381 : train_loss = 0.35723431597516137, train_acc = 0.8696498054474708, eval_loss = 0.39744904200659437, eval_acc = 0.8569848875783266\n",
      "Epoch 3/10, step 350/381 : train_loss = 0.3524748289033771, train_acc = 0.8708785582633627, eval_loss = 0.3854558575255915, eval_acc = 0.8625138223368964\n",
      "Epoch 3/10, step 380/381 : train_loss = 0.3590500094054613, train_acc = 0.8656768380094204, eval_loss = 0.38422321854508834, eval_acc = 0.8617766310357537\n",
      "Epoch 4/10, step 50/381 : train_loss = 0.36264869668435873, train_acc = 0.8653286913782511, eval_loss = 0.39855663300624034, eval_acc = 0.85514190932547\n",
      "Epoch 4/10, step 100/381 : train_loss = 0.3604975080000873, train_acc = 0.8658816301454024, eval_loss = 0.4105462641088316, eval_acc = 0.8553262071507556\n",
      "Epoch 4/10, step 150/381 : train_loss = 0.3564967782256114, train_acc = 0.8667007986893304, eval_loss = 0.39057223845742817, eval_acc = 0.8595650571323259\n",
      "Epoch 4/10, step 200/381 : train_loss = 0.3527179993831093, train_acc = 0.8693630964570961, eval_loss = 0.3858817452121384, eval_acc = 0.8647253962403243\n",
      "Epoch 4/10, step 250/381 : train_loss = 0.36648828966601643, train_acc = 0.8644480851935286, eval_loss = 0.41029858763804716, eval_acc = 0.8568005897530409\n",
      "Epoch 4/10, step 300/381 : train_loss = 0.351422769480477, train_acc = 0.8657177964366168, eval_loss = 0.39303785532877383, eval_acc = 0.8590121636564688\n",
      "Epoch 4/10, step 350/381 : train_loss = 0.3687938519023856, train_acc = 0.8581609666188819, eval_loss = 0.40015912716296487, eval_acc = 0.8569848875783266\n",
      "Epoch 4/10, step 380/381 : train_loss = 0.3420811103956837, train_acc = 0.8683800942043826, eval_loss = 0.3751930193928467, eval_acc = 0.8579063767047549\n",
      "Epoch 5/10, step 50/381 : train_loss = 0.3302270800745182, train_acc = 0.8689944706123285, eval_loss = 0.36852577788742297, eval_acc = 0.8556948028013269\n",
      "Epoch 5/10, step 100/381 : train_loss = 0.34052478475076675, train_acc = 0.8683800942043826, eval_loss = 0.37442216550948215, eval_acc = 0.8612237375598968\n",
      "Epoch 5/10, step 150/381 : train_loss = 0.3405981277637372, train_acc = 0.8697522015154618, eval_loss = 0.3723756076252314, eval_acc = 0.8641725027644673\n",
      "Epoch 5/10, step 200/381 : train_loss = 0.3474172130238929, train_acc = 0.8686463239811592, eval_loss = 0.3986964140186972, eval_acc = 0.867121267969038\n",
      "Epoch 5/10, step 250/381 : train_loss = 0.340855490401304, train_acc = 0.8665369649805448, eval_loss = 0.3879554496988832, eval_acc = 0.8573534832288979\n",
      "Epoch 5/10, step 300/381 : train_loss = 0.33366211362426634, train_acc = 0.8697112430882654, eval_loss = 0.36908480221109613, eval_acc = 0.8638039071138961\n",
      "Epoch 5/10, step 350/381 : train_loss = 0.32117517430525355, train_acc = 0.8744009830022528, eval_loss = 0.3645435168908827, eval_acc = 0.8623295245116107\n",
      "Epoch 5/10, step 380/381 : train_loss = 0.33272551587770516, train_acc = 0.8721073110792545, eval_loss = 0.361574603657775, eval_acc = 0.8647253962403243\n",
      "Epoch 6/10, step 50/381 : train_loss = 0.3456555960901342, train_acc = 0.8687077616219537, eval_loss = 0.374727342928016, eval_acc = 0.8580906745300405\n",
      "Epoch 6/10, step 100/381 : train_loss = 0.32195130178615045, train_acc = 0.873499897603932, eval_loss = 0.3622769702037688, eval_acc = 0.8658311831920383\n",
      "Epoch 6/10, step 150/381 : train_loss = 0.3388200696217158, train_acc = 0.8667007986893304, eval_loss = 0.37159536068205357, eval_acc = 0.8588278658311832\n",
      "Epoch 6/10, step 200/381 : train_loss = 0.3238163382581627, train_acc = 0.8731517509727627, eval_loss = 0.35688837110036886, eval_acc = 0.8614080353851825\n",
      "Epoch 6/10, step 250/381 : train_loss = 0.32691372511044997, train_acc = 0.8699569936514437, eval_loss = 0.3591479516184065, eval_acc = 0.8636196092886104\n",
      "Epoch 6/10, step 300/381 : train_loss = 0.32754231352360025, train_acc = 0.8680524267868114, eval_loss = 0.3682663327740257, eval_acc = 0.8603022484334685\n",
      "Epoch 6/10, step 350/381 : train_loss = 0.3258001611755046, train_acc = 0.8682367397091951, eval_loss = 0.3677240242315396, eval_acc = 0.8579063767047549\n",
      "Epoch 6/10, step 380/381 : train_loss = 0.32816830642216066, train_acc = 0.8693835756706942, eval_loss = 0.36171645748448766, eval_acc = 0.867121267969038\n",
      "Epoch 7/10, step 50/381 : train_loss = 0.3175343573623028, train_acc = 0.873499897603932, eval_loss = 0.356350794456304, eval_acc = 0.8691485440471802\n",
      "Epoch 7/10, step 100/381 : train_loss = 0.3220009954877125, train_acc = 0.8744419414294491, eval_loss = 0.358727432415702, eval_acc = 0.8634353114633248\n",
      "Epoch 7/10, step 150/381 : train_loss = 0.3305955213903524, train_acc = 0.8686668031947573, eval_loss = 0.35746500804141423, eval_acc = 0.8591964614817545\n",
      "Epoch 7/10, step 200/381 : train_loss = 0.32302814029642124, train_acc = 0.872250665574442, eval_loss = 0.36488833884672156, eval_acc = 0.8625138223368964\n",
      "Epoch 7/10, step 250/381 : train_loss = 0.32025796652922844, train_acc = 0.8705304116321934, eval_loss = 0.36008253698973786, eval_acc = 0.8625138223368964\n",
      "Epoch 7/10, step 300/381 : train_loss = 0.3219910089368282, train_acc = 0.8729674380503789, eval_loss = 0.34953452123180245, eval_acc = 0.8656468853667527\n",
      "Epoch 7/10, step 350/381 : train_loss = 0.3208580070705966, train_acc = 0.8721073110792545, eval_loss = 0.35206761035830214, eval_acc = 0.8643568005897531\n",
      "Epoch 7/10, step 380/381 : train_loss = 0.31430803053171624, train_acc = 0.8733565431087447, eval_loss = 0.3442739956568529, eval_acc = 0.8656468853667527\n",
      "Epoch 8/10, step 50/381 : train_loss = 0.3314301109448099, train_acc = 0.8662912144173663, eval_loss = 0.3676573957819751, eval_acc = 0.8625138223368964\n",
      "Epoch 8/10, step 100/381 : train_loss = 0.3255758437986244, train_acc = 0.868216260495597, eval_loss = 0.35753417552492195, eval_acc = 0.8571691854036122\n",
      "Epoch 8/10, step 150/381 : train_loss = 0.31674989040755525, train_acc = 0.8749948801966004, eval_loss = 0.3516086430321963, eval_acc = 0.8614080353851825\n",
      "Epoch 8/10, step 200/381 : train_loss = 0.3169229965409289, train_acc = 0.8708785582633627, eval_loss = 0.34929559101057905, eval_acc = 0.866015481017324\n",
      "Epoch 8/10, step 250/381 : train_loss = 0.3125736564369679, train_acc = 0.8729879172639771, eval_loss = 0.3558988059234633, eval_acc = 0.8601179506081829\n",
      "Epoch 8/10, step 300/381 : train_loss = 0.32465507233694585, train_acc = 0.8700593897194348, eval_loss = 0.35194439521460325, eval_acc = 0.8643568005897531\n",
      "Epoch 8/10, step 350/381 : train_loss = 0.321653732112893, train_acc = 0.8695064509522834, eval_loss = 0.3536633993686226, eval_acc = 0.8614080353851825\n",
      "Epoch 8/10, step 380/381 : train_loss = 0.3102755524934392, train_acc = 0.8753225476141716, eval_loss = 0.3415885759753436, eval_acc = 0.8687799483966089\n",
      "Epoch 9/10, step 50/381 : train_loss = 0.3220828398108354, train_acc = 0.8705099324185951, eval_loss = 0.3526815872306161, eval_acc = 0.8604865462587541\n",
      "Epoch 9/10, step 100/381 : train_loss = 0.31449065997699305, train_acc = 0.875158713905386, eval_loss = 0.35772978090131086, eval_acc = 0.866015481017324\n",
      "Epoch 9/10, step 150/381 : train_loss = 0.3141249146891724, train_acc = 0.8734589391767356, eval_loss = 0.3482849607567331, eval_acc = 0.8678584592701806\n",
      "Epoch 9/10, step 200/381 : train_loss = 0.31630341261673267, train_acc = 0.8709809543313537, eval_loss = 0.3457003170478517, eval_acc = 0.8663840766678953\n",
      "Epoch 9/10, step 250/381 : train_loss = 0.3165078699037002, train_acc = 0.8719844357976654, eval_loss = 0.3381895066522098, eval_acc = 0.8691485440471802\n",
      "Epoch 9/10, step 300/381 : train_loss = 0.3211023733500236, train_acc = 0.868851116117141, eval_loss = 0.3509102642777991, eval_acc = 0.8599336527828971\n",
      "Epoch 9/10, step 350/381 : train_loss = 0.3133905152466426, train_acc = 0.8736842105263158, eval_loss = 0.33751488580315897, eval_acc = 0.8650939918908958\n",
      "Epoch 9/10, step 380/381 : train_loss = 0.314415715887756, train_acc = 0.8699160352242474, eval_loss = 0.34212073630604034, eval_acc = 0.8632510136380391\n",
      "Training loss: 0.31723862821153564\n",
      "Eval loss: 0.34562381603010406\n",
      "Training accuracy: 0.8690559082531231\n",
      "Eval accuracy: 0.8626981201621821\n"
     ]
    }
   ],
   "source": [
    "# Zero initialization for weights ans bias\r\n",
    "w = np.zeros((data_dim, )) \r\n",
    "b = np.zeros((1,))\r\n",
    "\r\n",
    "# Some parameters for training    \r\n",
    "EPOCH = 10\r\n",
    "batch_size = 128\r\n",
    "learning_rate = 0.2\r\n",
    "\r\n",
    "# Keep the loss and accuracy at every iteration for plotting\r\n",
    "train_loss = []\r\n",
    "eval_loss = []\r\n",
    "train_acc = []\r\n",
    "eval_acc = []\r\n",
    "\r\n",
    "# Calcuate the number of parameter updates\r\n",
    "adagrad_step = 1\r\n",
    "batch_step = 0\r\n",
    "# Iterative training\r\n",
    "for epoch in range(EPOCH):\r\n",
    "    # Random shuffle at the begging of each epoch\r\n",
    "    X_train, Y_train = _shuffle(X_train, Y_train)\r\n",
    "        \r\n",
    "    # Mini-batch training\r\n",
    "    step = 0\r\n",
    "    steps = int(np.floor(train_size / batch_size))\r\n",
    "    for idx in range(steps):  # floor(48830/128)=382\r\n",
    "        X = X_train[idx*batch_size:(idx+1)*batch_size]\r\n",
    "        Y = Y_train[idx*batch_size:(idx+1)*batch_size]\r\n",
    "\r\n",
    "        # Compute the gradient\r\n",
    "        w_grad, b_grad = _gradient(X, Y, w, b)\r\n",
    "            \r\n",
    "        # gradient descent update\r\n",
    "        # learning rate decay with time\r\n",
    "        w = w - learning_rate/np.sqrt(adagrad_step) * w_grad\r\n",
    "        b = b - learning_rate/np.sqrt(adagrad_step) * b_grad\r\n",
    "        \r\n",
    "        step += 1\r\n",
    "        adagrad_step += 1\r\n",
    "\r\n",
    "        # Compute loss and accuracy of training set and development set\r\n",
    "        y_train_pred = _f(X_train, w, b)\r\n",
    "        Y_train_pred = np.round(y_train_pred)\r\n",
    "        y_eval_pred = _f(X_eval, w, b)\r\n",
    "        Y_eval_pred = np.round(y_eval_pred)\r\n",
    "\r\n",
    "        acc_train = _accuracy(Y_train_pred, Y_train)\r\n",
    "        loss_train = _cross_entropy_loss(y_train_pred, Y_train) / train_size\r\n",
    "        acc_eval = _accuracy(Y_eval_pred, Y_eval)\r\n",
    "        loss_eval = _cross_entropy_loss(y_eval_pred, Y_eval) / eval_size\r\n",
    "\r\n",
    "        if step % 50 == 0 or step == steps:\r\n",
    "            print(f'Epoch {epoch}/{EPOCH}, step {step}/{steps} : train_loss = {loss_train}, train_acc = {acc_train}, eval_loss = {loss_eval}, eval_acc = {acc_eval}')\r\n",
    "\r\n",
    "        train_acc.append(acc_train)\r\n",
    "        train_loss.append(loss_train)\r\n",
    "        eval_acc.append(acc_eval)\r\n",
    "        eval_loss.append(loss_eval)\r\n",
    "\r\n",
    "print('Training loss: {}'.format(train_loss[-1]))\r\n",
    "print('Eval loss: {}'.format(eval_loss[-1]))\r\n",
    "print('Training accuracy: {}'.format(train_acc[-1]))\r\n",
    "print('Eval accuracy: {}'.format(eval_acc[-1]))"
   ]
  },
  {
   "cell_type": "markdown",
   "metadata": {
    "collapsed": false
   },
   "source": [
    "## Plotting Loss and accuracy curve"
   ]
  },
  {
   "cell_type": "code",
   "execution_count": 32,
   "metadata": {
    "collapsed": false
   },
   "outputs": [
    {
     "data": {
      "image/png": "[encoded data removed]",
      "text/plain": [
       "<Figure size 432x288 with 1 Axes>"
      ]
     },
     "metadata": {},
     "output_type": "display_data"
    },
    {
     "data": {
      "image/png": "[encoded data removed]",
      "text/plain": [
       "<Figure size 432x288 with 1 Axes>"
      ]
     },
     "metadata": {},
     "output_type": "display_data"
    }
   ],
   "source": [
    "# Loss curve\r\n",
    "# plt.figure(figsize=(16, 8))\r\n",
    "plt.plot(train_loss)\r\n",
    "plt.plot(eval_loss)\r\n",
    "plt.title('Loss')\r\n",
    "plt.legend(['train', 'eval'])\r\n",
    "plt.savefig('loss.png')\r\n",
    "plt.show()\r\n",
    "\r\n",
    "# Accuracy curve\r\n",
    "# plt.figure(figsize=(16, 8))\r\n",
    "plt.plot(train_acc)\r\n",
    "plt.plot(eval_acc)\r\n",
    "plt.title('Accuracy')\r\n",
    "plt.legend(['train', 'eval'])\r\n",
    "plt.savefig('acc.png')\r\n",
    "plt.show()"
   ]
  },
  {
   "cell_type": "markdown",
   "metadata": {
    "collapsed": false
   },
   "source": [
    "## Predicting testing labels\n",
    "输出到`output_logistic.csv`。"
   ]
  },
  {
   "cell_type": "code",
   "execution_count": 33,
   "metadata": {
    "collapsed": false
   },
   "outputs": [
    {
     "name": "stdout",
     "output_type": "stream",
     "text": [
      " Local government -5.370818305378536\n",
      " Other Rel 18+ ever marr RP of subfamily -4.303398837549008\n",
      "num persons worked for employer 4.177335768723998\n",
      " Neither parent present -3.8146477310419447\n",
      "dividends from stocks -3.6462348599573593\n",
      " 2 -3.492485219117511\n",
      " High school graduate -3.486094628398619\n",
      " Child under 18 ever married -3.405443955741911\n",
      " Grandchild 18+ never marr RP of subfamily -3.331278619262018\n",
      " Philippines -3.304985181079396\n"
     ]
    },
    {
     "name": "stderr",
     "output_type": "stream",
     "text": [
      "/opt/conda/envs/python35-paddle120-env/lib/python3.7/site-packages/ipykernel_launcher.py:10: RuntimeWarning: overflow encountered in exp\n",
      "  # Remove the CWD from sys.path while we load stuff.\n"
     ]
    }
   ],
   "source": [
    "# Predict testing labels\r\n",
    "predictions = _predict(X_test, w, b)\r\n",
    "with open(output_fpath.format('logistic'), 'w') as f:\r\n",
    "    f.write('id,label\\n')\r\n",
    "    for i, label in  enumerate(predictions):\r\n",
    "        f.write('{},{}\\n'.format(i, label))\r\n",
    "\r\n",
    "# Print out the most significant weights\r\n",
    "ind = np.argsort(np.abs(w))[::-1]\r\n",
    "with open(X_test_fpath) as f:\r\n",
    "    content = f.readline().strip('\\n').split(',')\r\n",
    "features = np.array(content)\r\n",
    "for i in ind[0:10]:\r\n",
    "    print(features[i], w[i])"
   ]
  },
  {
   "cell_type": "markdown",
   "metadata": {
    "collapsed": false
   },
   "source": [
    "# Porbabilistic generative model"
   ]
  },
  {
   "cell_type": "markdown",
   "metadata": {
    "collapsed": false
   },
   "source": [
    "## Preparing Data "
   ]
  },
  {
   "cell_type": "code",
   "execution_count": 34,
   "metadata": {
    "collapsed": false
   },
   "outputs": [],
   "source": [
    "# Parse csv files to numpy array\r\n",
    "with open(X_train_fpath) as f:\r\n",
    "    next(f)\r\n",
    "    X_train = np.array([line.strip('\\n').split(',')[1:] for line in f], dtype = float)\r\n",
    "with open(Y_train_fpath) as f:\r\n",
    "    next(f)\r\n",
    "    Y_train = np.array([line.strip('\\n').split(',')[1] for line in f], dtype = float)\r\n",
    "with open(X_test_fpath) as f:\r\n",
    "    next(f)\r\n",
    "    X_test = np.array([line.strip('\\n').split(',')[1:] for line in f], dtype = float)\r\n",
    "\r\n",
    "# Normalize training and testing data\r\n",
    "X_train, X_mean, X_std = _normalize(X_train, train = True)\r\n",
    "X_test, _, _= _normalize(X_test, train = False, specified_column = None, X_mean = X_mean, X_std = X_std)"
   ]
  },
  {
   "cell_type": "markdown",
   "metadata": {
    "collapsed": false
   },
   "source": [
    "## Mean and Covariance"
   ]
  },
  {
   "cell_type": "code",
   "execution_count": 35,
   "metadata": {
    "collapsed": false
   },
   "outputs": [],
   "source": [
    "# Compute in-class mean\r\n",
    "X_train_0 = np.array([x for x, y in zip(X_train, Y_train) if y == 0])\r\n",
    "X_train_1 = np.array([x for x, y in zip(X_train, Y_train) if y == 1])\r\n",
    "\r\n",
    "mean_0 = np.mean(X_train_0, axis = 0)\r\n",
    "mean_1 = np.mean(X_train_1, axis = 0)  \r\n",
    "\r\n",
    "# Compute in-class covariance\r\n",
    "cov_0 = np.zeros((data_dim, data_dim))\r\n",
    "cov_1 = np.zeros((data_dim, data_dim))\r\n",
    "\r\n",
    "for x in X_train_0:\r\n",
    "    cov_0 += np.dot(np.transpose([x - mean_0]), [x - mean_0]) / X_train_0.shape[0]\r\n",
    "for x in X_train_1:\r\n",
    "    cov_1 += np.dot(np.transpose([x - mean_1]), [x - mean_1]) / X_train_1.shape[0]\r\n",
    "\r\n",
    "# Shared covariance is taken as a weighted average of individual in-class covariance.\r\n",
    "cov = (cov_0 * X_train_0.shape[0] + cov_1 * X_train_1.shape[0]) / (X_train_0.shape[0] + X_train_1.shape[0])"
   ]
  },
  {
   "cell_type": "markdown",
   "metadata": {
    "collapsed": false
   },
   "source": [
    "## Computing weights and bias"
   ]
  },
  {
   "cell_type": "code",
   "execution_count": 36,
   "metadata": {
    "collapsed": false
   },
   "outputs": [
    {
     "name": "stdout",
     "output_type": "stream",
     "text": [
      "Training accuracy: 0.8700420230020642\n"
     ]
    }
   ],
   "source": [
    "# Compute inverse of covariance matrix.\r\n",
    "# Since covariance matrix may be nearly singular, np.linalg.inv() may give a large numerical error.\r\n",
    "# Via SVD decomposition, one can get matrix inverse efficiently and accurately.\r\n",
    "u, s, v = np.linalg.svd(cov, full_matrices=False)\r\n",
    "inv = np.matmul(v.T * 1 / s, u.T)\r\n",
    "\r\n",
    "# Directly compute weights and bias\r\n",
    "w = np.dot(inv, mean_0 - mean_1)\r\n",
    "b =  (-0.5) * np.dot(mean_0, np.dot(inv, mean_0)) + 0.5 * np.dot(mean_1, np.dot(inv, mean_1))\\\r\n",
    "    + np.log(float(X_train_0.shape[0]) / X_train_1.shape[0]) \r\n",
    "\r\n",
    "# Compute accuracy on training set\r\n",
    "Y_train_pred = 1 - _predict(X_train, w, b)\r\n",
    "print('Training accuracy: {}'.format(_accuracy(Y_train_pred, Y_train)))"
   ]
  },
  {
   "cell_type": "markdown",
   "metadata": {
    "collapsed": false
   },
   "source": [
    "## Predicting testing labels\n",
    "Predictions are saved to `output_generative.csv`."
   ]
  },
  {
   "cell_type": "code",
   "execution_count": 37,
   "metadata": {
    "collapsed": false
   },
   "outputs": [
    {
     "name": "stdout",
     "output_type": "stream",
     "text": [
      " Retail trade 7.166015625\n",
      " 34 -5.45166015625\n",
      " 37 -5.06494140625\n",
      " Other service -4.76123046875\n",
      " 29 4.462890625\n",
      " Forestry and fisheries -4.35546875\n",
      " Public administration -3.927734375\n",
      " 28 3.796875\n",
      " 40 -3.7880859375\n",
      " Abroad 3.59765625\n"
     ]
    }
   ],
   "source": [
    "# Predict testing labels\r\n",
    "predictions = 1 - _predict(X_test, w, b)\r\n",
    "with open(output_fpath.format('generative'), 'w') as f:\r\n",
    "    f.write('id,label\\n')\r\n",
    "    for i, label in  enumerate(predictions):\r\n",
    "        f.write('{},{}\\n'.format(i, label))\r\n",
    "\r\n",
    "# Print out the most significant weights\r\n",
    "ind = np.argsort(np.abs(w))[::-1]\r\n",
    "with open(X_test_fpath) as f:\r\n",
    "    content = f.readline().strip('\\n').split(',')\r\n",
    "features = np.array(content)\r\n",
    "for i in ind[0:10]:\r\n",
    "    print(features[i], w[i])"
   ]
  }
 ],
 "metadata": {
  "kernelspec": {
   "display_name": "PaddlePaddle 2.0.0b0 (Python 3.5)",
   "language": "python",
   "name": "py35-paddle1.2.0"
  },
  "language_info": {
   "codemirror_mode": {
    "name": "ipython",
    "version": 3
   },
   "file_extension": ".py",
   "mimetype": "text/x-python",
   "name": "python",
   "nbconvert_exporter": "python",
   "pygments_lexer": "ipython3",
   "version": "3.7.4"
  }
 },
 "nbformat": 4,
 "nbformat_minor": 1
}
